{
 "cells": [
  {
   "cell_type": "code",
   "execution_count": 102,
   "id": "46a44b29-1332-48ae-9489-c062b30d7a0d",
   "metadata": {
    "tags": []
   },
   "outputs": [
    {
     "name": "stderr",
     "output_type": "stream",
     "text": [
      "/home/cody/miniconda3/envs/RepDist/lib/python3.7/site-packages/ipykernel_launcher.py:26: RuntimeWarning: covariance is not positive-semidefinite.\n"
     ]
    }
   ],
   "source": [
    "### FP Barchart\n",
    "\n",
    "import copy\n",
    "import glob\n",
    "import numpy as np\n",
    "import pandas as pd\n",
    "import seaborn as sns\n",
    "\n",
    "from scipy.stats import multivariate_normal\n",
    "\n",
    "import matplotlib.pyplot as plt\n",
    "import matplotlib.patches as mpatches\n",
    "import numpy as np\n",
    "import itertools\n",
    "\n",
    "#fig, ax = plt.subplots(figsize=(5,5))\n",
    "m = (\"v\", \"^\", \"<\", \">\", \"s\", \"p\", \"P\", \"h\", \"X\", \"d\", \"*\")\n",
    "markers = itertools.cycle(m)\n",
    "\n",
    "classes=6\n",
    "handles = []\n",
    "mean = [4, 4]\n",
    "cov = [[1, 0], [1, 5]]  # diagonal covariance\n",
    "# for x, y in zip(FPN_IK_change, FPR_IK_change):\n",
    "#     handles.append(plt.scatter(x, y, marker=next(markers), c='#1f77b4', edgecolors='black'))\n",
    "x, y = np.random.multivariate_normal(mean, cov, classes).T\n",
    "\n",
    "x1 = np.linspace(0, 10, classes, endpoint=True)\n",
    "y1 = np.linspace(0, 10, classes, endpoint=True)"
   ]
  },
  {
   "cell_type": "code",
   "execution_count": 106,
   "id": "3c62835d-c9c4-457d-af37-51ce729f68d6",
   "metadata": {
    "tags": []
   },
   "outputs": [
    {
     "name": "stderr",
     "output_type": "stream",
     "text": [
      "/home/cody/miniconda3/envs/RepDist/lib/python3.7/site-packages/seaborn/_decorators.py:43: FutureWarning: Pass the following variables as keyword args: x, y. From version 0.12, the only valid positional argument will be `data`, and passing other arguments without an explicit keyword will result in an error or misinterpretation.\n",
      "  FutureWarning\n",
      "/home/cody/miniconda3/envs/RepDist/lib/python3.7/site-packages/seaborn/_decorators.py:43: FutureWarning: Pass the following variables as keyword args: x, y. From version 0.12, the only valid positional argument will be `data`, and passing other arguments without an explicit keyword will result in an error or misinterpretation.\n",
      "  FutureWarning\n"
     ]
    },
    {
     "data": {
      "image/png": "[encoded data removed]",
      "text/plain": [
       "<Figure size 360x360 with 1 Axes>"
      ]
     },
     "metadata": {
      "needs_background": "light"
     },
     "output_type": "display_data"
    }
   ],
   "source": [
    "fig, ax = plt.subplots(figsize=(5,5))\n",
    "sns.scatterplot(x, y)\n",
    "sns.scatterplot(x1, y1)\n",
    "plt.xlim(min(itertools.chain(x, y, x1, y1))-max(itertools.chain(x, y, x1, y1))*.07, max(itertools.chain(x, y, x1, y1))+max(itertools.chain(x, y, x1, y1))*.07)\n",
    "plt.ylim(min(itertools.chain(x, y, x1, y1))-max(itertools.chain(x, y, x1, y1))*.07, max(itertools.chain(x, y, x1, y1))+max(itertools.chain(x, y, x1, y1))*.07)\n",
    "\n",
    "\n",
    "plt.scatter(np.mean(x), np.mean(y), marker=\"*\", c='#1f77b4', s=200)\n",
    "# for x, y in zip(FPN_Struct_change, FPR_Struct_change):\n",
    "#     plt.scatter(x, y, marker=next(markers), c='#ff7f0e', edgecolors='black')\n",
    "\n",
    "plt.scatter(np.mean(x1), np.mean(y1), marker=\"*\",c='#ff7f0e', s=200)\n",
    "\n",
    "ax.axline((0,0),slope=1, color='black', linestyle=':')\n",
    "# handles.append(mpatches.Patch(color=\"#1f77b4\", label='IK Struct Mag'))\n",
    "# handles.append(mpatches.Patch(color=\"#ff7f0e\", label='Struct Mag'))\n",
    "# @ax.legend(handles, class_names+['method centriod', 'IK Struct Mag', 'Struct Mag'])\n",
    "# leg = ax.get_legend()\n",
    "# for handle in leg.legendHandles[:-2]:\n",
    "#     handle.set_color('grey')\n",
    "plt.xlabel('Mean Change in False Negative Rate')\n",
    "plt.ylabel('Mean Change in False Postive Rate')\n",
    "#plt.title(\"Imagenette 75% Sparsity\")\n",
    "plt.show()"
   ]
  },
  {
   "cell_type": "code",
   "execution_count": null,
   "id": "94e1cd12-6566-453a-8cd3-05a75a293f17",
   "metadata": {},
   "outputs": [],
   "source": []
  }
 ],
 "metadata": {
  "kernelspec": {
   "display_name": "Python 3",
   "language": "python",
   "name": "python3"
  },
  "language_info": {
   "codemirror_mode": {
    "name": "ipython",
    "version": 3
   },
   "file_extension": ".py",
   "mimetype": "text/x-python",
   "name": "python",
   "nbconvert_exporter": "python",
   "pygments_lexer": "ipython3",
   "version": "3.7.10"
  }
 },
 "nbformat": 4,
 "nbformat_minor": 5
}
