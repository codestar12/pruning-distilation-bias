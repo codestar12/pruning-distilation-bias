{
 "cells": [
  {
   "cell_type": "code",
   "execution_count": 1,
   "id": "10ab8741-2d5d-4eb3-b483-2081ed638f14",
   "metadata": {},
   "outputs": [
    {
     "name": "stdout",
     "output_type": "stream",
     "text": [
      "/home/cody/RepDistiller\n"
     ]
    }
   ],
   "source": [
    "cd .."
   ]
  },
  {
   "cell_type": "code",
   "execution_count": 2,
   "id": "3ec3e9b5-251f-4826-8a3e-46c2ffbe462f",
   "metadata": {},
   "outputs": [],
   "source": [
    "from anatome import anatome"
   ]
  },
  {
   "cell_type": "code",
   "execution_count": 3,
   "id": "3a6ea890-7788-4bf7-a285-be674fc4bd12",
   "metadata": {
    "jupyter": {
     "source_hidden": true
    },
    "tags": []
   },
   "outputs": [
    {
     "name": "stderr",
     "output_type": "stream",
     "text": [
      "/home/cody/miniconda3/envs/RepDist/lib/python3.7/site-packages/tensorflow/python/framework/dtypes.py:516: FutureWarning: Passing (type, 1) or '1type' as a synonym of type is deprecated; in a future version of numpy, it will be understood as (type, (1,)) / '(1,)type'.\n",
      "  _np_qint8 = np.dtype([(\"qint8\", np.int8, 1)])\n",
      "/home/cody/miniconda3/envs/RepDist/lib/python3.7/site-packages/tensorflow/python/framework/dtypes.py:517: FutureWarning: Passing (type, 1) or '1type' as a synonym of type is deprecated; in a future version of numpy, it will be understood as (type, (1,)) / '(1,)type'.\n",
      "  _np_quint8 = np.dtype([(\"quint8\", np.uint8, 1)])\n",
      "/home/cody/miniconda3/envs/RepDist/lib/python3.7/site-packages/tensorflow/python/framework/dtypes.py:518: FutureWarning: Passing (type, 1) or '1type' as a synonym of type is deprecated; in a future version of numpy, it will be understood as (type, (1,)) / '(1,)type'.\n",
      "  _np_qint16 = np.dtype([(\"qint16\", np.int16, 1)])\n",
      "/home/cody/miniconda3/envs/RepDist/lib/python3.7/site-packages/tensorflow/python/framework/dtypes.py:519: FutureWarning: Passing (type, 1) or '1type' as a synonym of type is deprecated; in a future version of numpy, it will be understood as (type, (1,)) / '(1,)type'.\n",
      "  _np_quint16 = np.dtype([(\"quint16\", np.uint16, 1)])\n",
      "/home/cody/miniconda3/envs/RepDist/lib/python3.7/site-packages/tensorflow/python/framework/dtypes.py:520: FutureWarning: Passing (type, 1) or '1type' as a synonym of type is deprecated; in a future version of numpy, it will be understood as (type, (1,)) / '(1,)type'.\n",
      "  _np_qint32 = np.dtype([(\"qint32\", np.int32, 1)])\n",
      "/home/cody/miniconda3/envs/RepDist/lib/python3.7/site-packages/tensorflow/python/framework/dtypes.py:525: FutureWarning: Passing (type, 1) or '1type' as a synonym of type is deprecated; in a future version of numpy, it will be understood as (type, (1,)) / '(1,)type'.\n",
      "  np_resource = np.dtype([(\"resource\", np.ubyte, 1)])\n",
      "/home/cody/miniconda3/envs/RepDist/lib/python3.7/site-packages/tensorboard/compat/tensorflow_stub/dtypes.py:541: FutureWarning: Passing (type, 1) or '1type' as a synonym of type is deprecated; in a future version of numpy, it will be understood as (type, (1,)) / '(1,)type'.\n",
      "  _np_qint8 = np.dtype([(\"qint8\", np.int8, 1)])\n",
      "/home/cody/miniconda3/envs/RepDist/lib/python3.7/site-packages/tensorboard/compat/tensorflow_stub/dtypes.py:542: FutureWarning: Passing (type, 1) or '1type' as a synonym of type is deprecated; in a future version of numpy, it will be understood as (type, (1,)) / '(1,)type'.\n",
      "  _np_quint8 = np.dtype([(\"quint8\", np.uint8, 1)])\n",
      "/home/cody/miniconda3/envs/RepDist/lib/python3.7/site-packages/tensorboard/compat/tensorflow_stub/dtypes.py:543: FutureWarning: Passing (type, 1) or '1type' as a synonym of type is deprecated; in a future version of numpy, it will be understood as (type, (1,)) / '(1,)type'.\n",
      "  _np_qint16 = np.dtype([(\"qint16\", np.int16, 1)])\n",
      "/home/cody/miniconda3/envs/RepDist/lib/python3.7/site-packages/tensorboard/compat/tensorflow_stub/dtypes.py:544: FutureWarning: Passing (type, 1) or '1type' as a synonym of type is deprecated; in a future version of numpy, it will be understood as (type, (1,)) / '(1,)type'.\n",
      "  _np_quint16 = np.dtype([(\"quint16\", np.uint16, 1)])\n",
      "/home/cody/miniconda3/envs/RepDist/lib/python3.7/site-packages/tensorboard/compat/tensorflow_stub/dtypes.py:545: FutureWarning: Passing (type, 1) or '1type' as a synonym of type is deprecated; in a future version of numpy, it will be understood as (type, (1,)) / '(1,)type'.\n",
      "  _np_qint32 = np.dtype([(\"qint32\", np.int32, 1)])\n",
      "/home/cody/miniconda3/envs/RepDist/lib/python3.7/site-packages/tensorboard/compat/tensorflow_stub/dtypes.py:550: FutureWarning: Passing (type, 1) or '1type' as a synonym of type is deprecated; in a future version of numpy, it will be understood as (type, (1,)) / '(1,)type'.\n",
      "  np_resource = np.dtype([(\"resource\", np.ubyte, 1)])\n"
     ]
    }
   ],
   "source": [
    "import torch\n",
    "import copy\n",
    "import glob\n",
    "import torch.optim as optim\n",
    "import torch.nn as nn\n",
    "import numpy as np\n",
    "import pandas as pd\n",
    "import seaborn as sns\n",
    "\n",
    "from sklearn.metrics import classification_report\n",
    "\n",
    "from src.dataloader import make_data_loader\n",
    "from src.model_loader import load_model\n",
    "from src.trainers import first_eval, class_report\n",
    "from src.analytics import fix_state_dict, df_builder\n",
    "\n",
    "from train_student import load_teacher"
   ]
  },
  {
   "cell_type": "code",
   "execution_count": 4,
   "id": "64c43c64-2c3a-4fec-92f6-31e6352a2229",
   "metadata": {},
   "outputs": [],
   "source": [
    "torch.manual_seed(42)\n",
    "np.random.seed(42)\n",
    "from dataset.cifar100 import get_cifar100_dataloaders"
   ]
  },
  {
   "cell_type": "code",
   "execution_count": 5,
   "id": "e854ad95-ff7b-4b22-be0c-55bd96d74bfb",
   "metadata": {},
   "outputs": [],
   "source": [
    "from models import model_dict"
   ]
  },
  {
   "cell_type": "code",
   "execution_count": 6,
   "id": "65f9f6d7-5a15-4c87-8c14-751f0716721d",
   "metadata": {},
   "outputs": [
    {
     "name": "stdout",
     "output_type": "stream",
     "text": [
      "411 µs ± 41.3 µs per loop (mean ± std. dev. of 7 runs, 1000 loops each)\n"
     ]
    }
   ],
   "source": [
    "%%timeit\n",
    "class_names = [['beaver', 'dolphin', 'otter', 'seal', 'whale'],\n",
    "              ['aquarium_fish', 'flatfish', 'ray', 'shark', 'trout'],\n",
    "              ['orchid', 'poppy', 'rose', 'sunflower', 'tulip'],\n",
    "              ['bottle', 'bowl', 'can', 'cup', 'plate'],\n",
    "              ['apple', 'mushroom', 'orange', 'pear', 'sweet_pepper'],\n",
    "              ['clock', 'keyboard', 'lamp', 'telephone', 'television'],\n",
    "              ['bed', 'chair', 'couch', 'table', 'wardrobe'],\n",
    "              ['bee', 'beetle', 'butterfly', 'caterpillar', 'cockroach'],\n",
    "              ['bear', 'leopard', 'lion', 'tiger', 'wolf'],\n",
    "              ['bridge', 'castle', 'house', 'road', 'skyscraper'],\n",
    "              ['cloud', 'forest', 'mountain', 'plain', 'sea'],\n",
    "              ['camel', 'cattle', 'chimpanzee', 'elephant', 'kangaroo'],\n",
    "              ['fox', 'porcupine', 'possum', 'raccoon', 'skunk'],\n",
    "              ['crab', 'lobster', 'snail', 'spider', 'worm'],\n",
    "              ['baby', 'boy', 'girl', 'man', 'woman'],\n",
    "              ['crocodile', 'dinosaur', 'lizard', 'snake', 'turtle'],\n",
    "              ['hamster', 'mouse', 'rabbit', 'shrew', 'squirrel'],\n",
    "              ['maple_tree', 'oak_tree', 'palm_tree', 'pine_tree', 'willow_tree'],\n",
    "              ['bicycle', 'bus', 'motorcycle', 'pickup_truck', 'train'],\n",
    "              ['lawn_mower', 'rocket', 'streetcar', 'tank', 'tractor']]\n",
    "\n",
    "class_names = list(np.concatenate(class_names).flat)"
   ]
  },
  {
   "cell_type": "code",
   "execution_count": 7,
   "id": "7ec512ea-1342-4988-989b-3079258458ba",
   "metadata": {},
   "outputs": [],
   "source": [
    "student = model_dict['resnet32x4'](num_classes=100)\n",
    "teacher = model_dict['resnet32x4'](num_classes=100)"
   ]
  },
  {
   "cell_type": "code",
   "execution_count": 8,
   "id": "afeb4ccc-313c-468e-917b-acac23a9ae0c",
   "metadata": {},
   "outputs": [
    {
     "name": "stdout",
     "output_type": "stream",
     "text": [
      "==> loading teacher model\n",
      "==> done\n"
     ]
    }
   ],
   "source": [
    "teacher_path = './save/models/resnet32x4_vanilla/ckpt_epoch_240.pth'\n",
    "teacher = load_teacher(teacher_path, 100)"
   ]
  },
  {
   "cell_type": "code",
   "execution_count": 9,
   "id": "182f68ae-76fc-4795-ba39-509d839e3777",
   "metadata": {},
   "outputs": [
    {
     "name": "stdout",
     "output_type": "stream",
     "text": [
      "Files already downloaded and verified\n"
     ]
    },
    {
     "name": "stderr",
     "output_type": "stream",
     "text": [
      "/home/cody/miniconda3/envs/RepDist/lib/python3.7/site-packages/torch/utils/data/dataloader.py:477: UserWarning: This DataLoader will create 8 worker processes in total. Our suggested max number of worker in current system is 1, which is smaller than what this DataLoader is going to create. Please be aware that excessive worker creation might get DataLoader running slow or even freeze, lower the worker number to avoid potential slowness/freeze if necessary.\n",
      "  cpuset_checked))\n"
     ]
    },
    {
     "name": "stdout",
     "output_type": "stream",
     "text": [
      "Files already downloaded and verified\n"
     ]
    },
    {
     "name": "stderr",
     "output_type": "stream",
     "text": [
      "/home/cody/miniconda3/envs/RepDist/lib/python3.7/site-packages/torch/utils/data/dataloader.py:477: UserWarning: This DataLoader will create 4 worker processes in total. Our suggested max number of worker in current system is 1, which is smaller than what this DataLoader is going to create. Please be aware that excessive worker creation might get DataLoader running slow or even freeze, lower the worker number to avoid potential slowness/freeze if necessary.\n",
      "  cpuset_checked))\n"
     ]
    }
   ],
   "source": [
    "train_loader, val_loader = get_cifar100_dataloaders(200, 8, seq=True)\n",
    "dataloaders = {'train': train_loader, 'val': val_loader}\n",
    "dataset_sizes = {'train': 50000, 'val': 10000}"
   ]
  },
  {
   "cell_type": "code",
   "execution_count": 10,
   "id": "2974afac-b32e-41ea-9a4a-73c925197592",
   "metadata": {},
   "outputs": [],
   "source": [
    "\n",
    "device = torch.device('cuda' if torch.cuda.is_available() else 'cpu')\n",
    "student = student.to(device)\n",
    "teacher = teacher.to(device)"
   ]
  },
  {
   "cell_type": "code",
   "execution_count": 11,
   "id": "975285c2-1255-442b-a09e-08564fef78ae",
   "metadata": {},
   "outputs": [],
   "source": [
    "sim_layers = ['layer1.4', 'layer2.4', 'layer3.4', 'fc']\n",
    "#sim_layers = ['layer3.4']"
   ]
  },
  {
   "cell_type": "code",
   "execution_count": 12,
   "id": "ea7b8d1a-934a-4da3-8af4-e1913d8f6dd5",
   "metadata": {},
   "outputs": [],
   "source": [
    "teacher_hooks = anatome.SimilarityHook.create_hooks(teacher, sim_layers, 'svcca')\n",
    "student_hooks = anatome.SimilarityHook.create_hooks(student, sim_layers , 'svcca')"
   ]
  },
  {
   "cell_type": "raw",
   "id": "8570b714-a344-4326-9ae6-619f62895c16",
   "metadata": {},
   "source": [
    "%%time\n",
    "\n",
    "# [hook.clear() for hook in teacher_hooks]\n",
    "# [hook.clear() for hook in student_hooks]\n",
    "# torch.cuda.empty_cache()\n",
    "\n",
    "dset = iter(dataloaders['val'])\n",
    "for i in range(64):\n",
    "    data = next(dset)\n",
    "    with torch.no_grad():\n",
    "        data = data[0].cuda()\n",
    "        teacher(data)\n",
    "        student(data)"
   ]
  },
  {
   "cell_type": "raw",
   "id": "1e50a482-5a6d-4b94-ac3a-a46e7fdfdb32",
   "metadata": {
    "tags": []
   },
   "source": [
    "%%time\n",
    "distances = []\n",
    "for t_h, s_h in zip(teacher_hooks, student_hooks):\n",
    "    distances.append(t_h.distance(s_h, size=16))\n",
    "    \n",
    "distances"
   ]
  },
  {
   "cell_type": "raw",
   "id": "e65b5c50-74f8-4eaa-b1a4-f4e9037ea623",
   "metadata": {},
   "source": [
    "def fix_state_dict(old_state):\n",
    "    new_dict = {}\n",
    "\n",
    "    # kill it with fire\n",
    "    for key, value in old_state.items():\n",
    "        if 'orig' in key:\n",
    "            new_key = key.replace('_orig', '')\n",
    "            new_dict[new_key] = value \n",
    "\n",
    "        elif \"mask\" in key:\n",
    "            continue\n",
    "        else:\n",
    "            new_dict[key] = value\n",
    "\n",
    "    return new_dict"
   ]
  },
  {
   "cell_type": "raw",
   "id": "8f02751e-b0fc-4359-be63-834db4203822",
   "metadata": {},
   "source": [
    "student_path = \"save/student_model/resnet32x4_cifar100_lr_0.05_decay_0.0005_trial_0_ts:0.3_strat:struct/resnet32x4_best.pth\""
   ]
  },
  {
   "cell_type": "raw",
   "id": "345ac8c7-f941-4db3-823d-adf30b052baa",
   "metadata": {},
   "source": [
    "ckpt = torch.load(student_path, map_location=device)\n",
    "ckpt = fix_state_dict(ckpt['model'])\n",
    "student.load_state_dict(ckpt, strict=True)\n",
    "student = student.to(device)"
   ]
  },
  {
   "cell_type": "raw",
   "id": "f3f04d0a-8e72-4873-a1c0-08ecab5f0dbd",
   "metadata": {},
   "source": [
    "teacher_hook = anatome.SimilarityHook(teacher, 'layer3.4', 'svcca')\n",
    "student_hook = anatome.SimilarityHook(student, 'layer3.4' , 'svcca')"
   ]
  },
  {
   "cell_type": "raw",
   "id": "32994ced-5707-40e3-b452-b4df8e6c6850",
   "metadata": {
    "tags": []
   },
   "source": [
    "dset = iter(dataloaders['val'])\n",
    "for i in range(64):\n",
    "    data = next(dset)\n",
    "    with torch.no_grad():\n",
    "        data = data[0].cuda()\n",
    "        teacher(data)\n",
    "        student(data)\n",
    "\n",
    "print(f'calculating distance for: {student_path}')\n",
    "distance = teacher_hook.distance(student_hook, size=16)\n",
    "distance"
   ]
  },
  {
   "cell_type": "code",
   "execution_count": 13,
   "id": "056bd3f5-5de6-4ffe-9306-eb558ebe35ad",
   "metadata": {},
   "outputs": [],
   "source": [
    "sims = {}"
   ]
  },
  {
   "cell_type": "code",
   "execution_count": 14,
   "id": "e2af9131-f535-42f5-8b4b-f28f27291123",
   "metadata": {},
   "outputs": [
    {
     "name": "stdout",
     "output_type": "stream",
     "text": [
      "iterating dataset for model: save/student_model/S:resnet32x4_T:resnet32x4_cifar100_crd_r:1_a:0.0_b:0.8_3_ts:0.3_strat:struct_lr:0.05/resnet8x4_best.pth\n",
      "calculating distance for: save/student_model/S:resnet32x4_T:resnet32x4_cifar100_crd_r:1_a:0.0_b:0.8_3_ts:0.3_strat:struct_lr:0.05/resnet8x4_best.pth\n"
     ]
    },
    {
     "name": "stderr",
     "output_type": "stream",
     "text": [
      "/home/cody/miniconda3/envs/RepDist/lib/python3.7/site-packages/torch/nn/functional.py:3458: UserWarning: Default upsampling behavior when mode=bicubic is changed to align_corners=False since 0.4.0. Please specify align_corners=True if the old behavior is desired. See the documentation of nn.Upsample for details.\n",
      "  \"See the documentation of nn.Upsample for details.\".format(mode)\n"
     ]
    },
    {
     "name": "stdout",
     "output_type": "stream",
     "text": [
      "iterating dataset for model: save/student_model/S:resnet32x4_T:resnet32x4_cifar100_crd_r:1_a:0.0_b:0.8_0_ts:0.3_strat:struct_lr:0.05/resnet8x4_best.pth\n",
      "calculating distance for: save/student_model/S:resnet32x4_T:resnet32x4_cifar100_crd_r:1_a:0.0_b:0.8_0_ts:0.3_strat:struct_lr:0.05/resnet8x4_best.pth\n",
      "iterating dataset for model: save/student_model/S:resnet32x4_T:resnet32x4_cifar100_crd_r:1_a:0.0_b:0.8_1_ts:0.3_strat:struct_lr:0.05/resnet8x4_best.pth\n",
      "calculating distance for: save/student_model/S:resnet32x4_T:resnet32x4_cifar100_crd_r:1_a:0.0_b:0.8_1_ts:0.3_strat:struct_lr:0.05/resnet8x4_best.pth\n",
      "iterating dataset for model: save/student_model/S:resnet32x4_T:resnet32x4_cifar100_crd_r:1_a:0.0_b:0.8_2_ts:0.3_strat:struct_lr:0.05/resnet8x4_best.pth\n",
      "calculating distance for: save/student_model/S:resnet32x4_T:resnet32x4_cifar100_crd_r:1_a:0.0_b:0.8_2_ts:0.3_strat:struct_lr:0.05/resnet8x4_best.pth\n",
      "[array([0.11423176, 0.24394627, 0.53166722, 0.16832384])]\n",
      "iterating dataset for model: save/student_model/S:resnet32x4_T:resnet32x4_cifar100_crd_r:1_a:0.0_b:0.8_1_ts:0.45_strat:struct_lr:0.05/resnet8x4_best.pth\n",
      "calculating distance for: save/student_model/S:resnet32x4_T:resnet32x4_cifar100_crd_r:1_a:0.0_b:0.8_1_ts:0.45_strat:struct_lr:0.05/resnet8x4_best.pth\n",
      "iterating dataset for model: save/student_model/S:resnet32x4_T:resnet32x4_cifar100_crd_r:1_a:0.0_b:0.8_2_ts:0.45_strat:struct_lr:0.05/resnet8x4_best.pth\n",
      "calculating distance for: save/student_model/S:resnet32x4_T:resnet32x4_cifar100_crd_r:1_a:0.0_b:0.8_2_ts:0.45_strat:struct_lr:0.05/resnet8x4_best.pth\n",
      "iterating dataset for model: save/student_model/S:resnet32x4_T:resnet32x4_cifar100_crd_r:1_a:0.0_b:0.8_3_ts:0.45_strat:struct_lr:0.05/resnet8x4_best.pth\n",
      "calculating distance for: save/student_model/S:resnet32x4_T:resnet32x4_cifar100_crd_r:1_a:0.0_b:0.8_3_ts:0.45_strat:struct_lr:0.05/resnet8x4_best.pth\n",
      "iterating dataset for model: save/student_model/S:resnet32x4_T:resnet32x4_cifar100_crd_r:1_a:0.0_b:0.8_0_ts:0.45_strat:struct_lr:0.05/resnet8x4_best.pth\n",
      "calculating distance for: save/student_model/S:resnet32x4_T:resnet32x4_cifar100_crd_r:1_a:0.0_b:0.8_0_ts:0.45_strat:struct_lr:0.05/resnet8x4_best.pth\n",
      "[array([0.11423176, 0.24394627, 0.53166722, 0.16832384]), array([0.13933901, 0.27980629, 0.56730361, 0.19708504])]\n",
      "iterating dataset for model: save/student_model/S:resnet32x4_T:resnet32x4_cifar100_crd_r:1_a:0.0_b:0.8_1_ts:0.6_strat:struct_lr:0.05/resnet8x4_best.pth\n",
      "calculating distance for: save/student_model/S:resnet32x4_T:resnet32x4_cifar100_crd_r:1_a:0.0_b:0.8_1_ts:0.6_strat:struct_lr:0.05/resnet8x4_best.pth\n",
      "iterating dataset for model: save/student_model/S:resnet32x4_T:resnet32x4_cifar100_crd_r:1_a:0.0_b:0.8_0_ts:0.6_strat:struct_lr:0.05/resnet8x4_best.pth\n",
      "calculating distance for: save/student_model/S:resnet32x4_T:resnet32x4_cifar100_crd_r:1_a:0.0_b:0.8_0_ts:0.6_strat:struct_lr:0.05/resnet8x4_best.pth\n",
      "iterating dataset for model: save/student_model/S:resnet32x4_T:resnet32x4_cifar100_crd_r:1_a:0.0_b:0.8_2_ts:0.6_strat:struct_lr:0.05/resnet8x4_best.pth\n",
      "calculating distance for: save/student_model/S:resnet32x4_T:resnet32x4_cifar100_crd_r:1_a:0.0_b:0.8_2_ts:0.6_strat:struct_lr:0.05/resnet8x4_best.pth\n",
      "iterating dataset for model: save/student_model/S:resnet32x4_T:resnet32x4_cifar100_crd_r:1_a:0.0_b:0.8_3_ts:0.6_strat:struct_lr:0.05/resnet8x4_best.pth\n",
      "calculating distance for: save/student_model/S:resnet32x4_T:resnet32x4_cifar100_crd_r:1_a:0.0_b:0.8_3_ts:0.6_strat:struct_lr:0.05/resnet8x4_best.pth\n",
      "[array([0.11423176, 0.24394627, 0.53166722, 0.16832384]), array([0.13933901, 0.27980629, 0.56730361, 0.19708504]), array([0.18144852, 0.33656165, 0.6038239 , 0.22038917])]\n",
      "iterating dataset for model: save/student_model/S:resnet32x4_T:resnet32x4_cifar100_crd_r:1_a:0.0_b:0.8_1_ts:0.75_strat:struct_lr:0.05/resnet8x4_best.pth\n",
      "calculating distance for: save/student_model/S:resnet32x4_T:resnet32x4_cifar100_crd_r:1_a:0.0_b:0.8_1_ts:0.75_strat:struct_lr:0.05/resnet8x4_best.pth\n",
      "iterating dataset for model: save/student_model/S:resnet32x4_T:resnet32x4_cifar100_crd_r:1_a:0.0_b:0.8_2_ts:0.75_strat:struct_lr:0.05/resnet8x4_best.pth\n",
      "calculating distance for: save/student_model/S:resnet32x4_T:resnet32x4_cifar100_crd_r:1_a:0.0_b:0.8_2_ts:0.75_strat:struct_lr:0.05/resnet8x4_best.pth\n",
      "iterating dataset for model: save/student_model/S:resnet32x4_T:resnet32x4_cifar100_crd_r:1_a:0.0_b:0.8_0_ts:0.75_strat:struct_lr:0.05/resnet8x4_best.pth\n",
      "calculating distance for: save/student_model/S:resnet32x4_T:resnet32x4_cifar100_crd_r:1_a:0.0_b:0.8_0_ts:0.75_strat:struct_lr:0.05/resnet8x4_best.pth\n",
      "iterating dataset for model: save/student_model/S:resnet32x4_T:resnet32x4_cifar100_crd_r:1_a:0.0_b:0.8_3_ts:0.75_strat:struct_lr:0.05/resnet8x4_best.pth\n",
      "calculating distance for: save/student_model/S:resnet32x4_T:resnet32x4_cifar100_crd_r:1_a:0.0_b:0.8_3_ts:0.75_strat:struct_lr:0.05/resnet8x4_best.pth\n",
      "[array([0.11423176, 0.24394627, 0.53166722, 0.16832384]), array([0.13933901, 0.27980629, 0.56730361, 0.19708504]), array([0.18144852, 0.33656165, 0.6038239 , 0.22038917]), array([0.23477177, 0.40419688, 0.63123876, 0.26381856])]\n",
      "iterating dataset for model: save/student_model/S:resnet32x4_T:resnet32x4_cifar100_crd_r:1_a:0.0_b:0.8_1_ts:0.9_strat:struct_lr:0.05/resnet8x4_best.pth\n",
      "calculating distance for: save/student_model/S:resnet32x4_T:resnet32x4_cifar100_crd_r:1_a:0.0_b:0.8_1_ts:0.9_strat:struct_lr:0.05/resnet8x4_best.pth\n",
      "iterating dataset for model: save/student_model/S:resnet32x4_T:resnet32x4_cifar100_crd_r:1_a:0.0_b:0.8_2_ts:0.9_strat:struct_lr:0.05/resnet8x4_best.pth\n",
      "calculating distance for: save/student_model/S:resnet32x4_T:resnet32x4_cifar100_crd_r:1_a:0.0_b:0.8_2_ts:0.9_strat:struct_lr:0.05/resnet8x4_best.pth\n",
      "iterating dataset for model: save/student_model/S:resnet32x4_T:resnet32x4_cifar100_crd_r:1_a:0.0_b:0.8_3_ts:0.9_strat:struct_lr:0.05/resnet8x4_best.pth\n",
      "calculating distance for: save/student_model/S:resnet32x4_T:resnet32x4_cifar100_crd_r:1_a:0.0_b:0.8_3_ts:0.9_strat:struct_lr:0.05/resnet8x4_best.pth\n",
      "[array([0.11423176, 0.24394627, 0.53166722, 0.16832384]), array([0.13933901, 0.27980629, 0.56730361, 0.19708504]), array([0.18144852, 0.33656165, 0.6038239 , 0.22038917]), array([0.23477177, 0.40419688, 0.63123876, 0.26381856]), array([0.21553959, 0.41270655, 0.60422202, 0.4201684 ])]\n",
      "CPU times: user 13min 52s, sys: 16min 55s, total: 30min 47s\n",
      "Wall time: 34min 4s\n"
     ]
    }
   ],
   "source": [
    "%%time\n",
    "import gc \n",
    "\n",
    "crd_45 = glob.glob('save/student_model/*crd*ts:0.4*lr:0.05*/*best.pth')\n",
    "crd_30 = glob.glob('save/student_model/*crd*ts:0.3*lr:0.05*/*best.pth')\n",
    "crd_60 = glob.glob('save/student_model/*crd*ts:0.6*lr:0.05*/*best.pth')\n",
    "crd_75 = glob.glob('save/student_model/*crd*ts:0.7*lr:0.05*/*best.pth')\n",
    "crd_90 = glob.glob('save/student_model/*crd*ts:0.9*lr:0.05*/*best.pth')\n",
    "\n",
    "results = []\n",
    "\n",
    "for sparsity in [crd_30, crd_45, crd_60, crd_75, crd_90]:\n",
    "    \n",
    "    d = np.array([0.0, 0.0, 0.0, 0.0])\n",
    "    for model in sparsity:\n",
    "\n",
    "        #make sure everything is clean\n",
    "        [hook.clear() for hook in teacher_hooks]\n",
    "        [hook.clear() for hook in student_hooks]\n",
    "#         for hook in student_hooks:\n",
    "#             del hook\n",
    "        torch.cuda.empty_cache()\n",
    "        gc.collect()\n",
    "\n",
    "        #load student\n",
    "        ckpt = torch.load(model, map_location=device)\n",
    "        ckpt = fix_state_dict(ckpt['model'])\n",
    "        student.load_state_dict(ckpt, strict=True)\n",
    "        student = student.to(device)\n",
    "\n",
    "\n",
    "        #add student hooks\n",
    "        #student_hooks = anatome.SimilarityHook.create_hooks(student, sim_layers , 'svcca')\n",
    "\n",
    "        print(f\"iterating dataset for model: {model}\")\n",
    "        #make iterator and go through as much data as will fit in memory\n",
    "\n",
    "        dset = iter(dataloaders['val'])\n",
    "        for i in range(64):\n",
    "            data = next(dset)\n",
    "            with torch.no_grad():\n",
    "                data = data[0].cuda()\n",
    "                teacher(data)\n",
    "                student(data)\n",
    "\n",
    "        print(f'calculating distance for: {model}')\n",
    "        distances = []\n",
    "        for t_h, s_h in zip(teacher_hooks, student_hooks):\n",
    "            distances.append(t_h.distance(s_h, size=16))\n",
    "        d += np.array(distances)\n",
    "\n",
    "    results.append(d / len(sparsity))\n",
    "    print(results)\n",
    "    \n",
    "sims['crd_mag'] = results"
   ]
  },
  {
   "cell_type": "code",
   "execution_count": 16,
   "id": "af649cf7-1a8c-4a96-bd44-6955034793b7",
   "metadata": {},
   "outputs": [
    {
     "name": "stdout",
     "output_type": "stream",
     "text": [
      "iterating dataset for model: save/student_model/S:resnet32x4_T:resnet32x4_cifar100_all_r:1.0_a:0.0_b:1.0_0_ts:0.3_strat:struct_lr:0.05/resnet8x4_best.pth\n"
     ]
    },
    {
     "name": "stderr",
     "output_type": "stream",
     "text": [
      "/home/cody/miniconda3/envs/RepDist/lib/python3.7/site-packages/torch/utils/data/dataloader.py:477: UserWarning: This DataLoader will create 4 worker processes in total. Our suggested max number of worker in current system is 1, which is smaller than what this DataLoader is going to create. Please be aware that excessive worker creation might get DataLoader running slow or even freeze, lower the worker number to avoid potential slowness/freeze if necessary.\n",
      "  cpuset_checked))\n"
     ]
    },
    {
     "name": "stdout",
     "output_type": "stream",
     "text": [
      "calculating distance for: save/student_model/S:resnet32x4_T:resnet32x4_cifar100_all_r:1.0_a:0.0_b:1.0_0_ts:0.3_strat:struct_lr:0.05/resnet8x4_best.pth\n"
     ]
    },
    {
     "name": "stderr",
     "output_type": "stream",
     "text": [
      "/home/cody/miniconda3/envs/RepDist/lib/python3.7/site-packages/torch/nn/functional.py:3458: UserWarning: Default upsampling behavior when mode=bicubic is changed to align_corners=False since 0.4.0. Please specify align_corners=True if the old behavior is desired. See the documentation of nn.Upsample for details.\n",
      "  \"See the documentation of nn.Upsample for details.\".format(mode)\n"
     ]
    },
    {
     "name": "stdout",
     "output_type": "stream",
     "text": [
      "iterating dataset for model: save/student_model/S:resnet32x4_T:resnet32x4_cifar100_all_r:1.0_a:0.0_b:1.0_1_ts:0.3_strat:struct_lr:0.05/resnet8x4_best.pth\n",
      "calculating distance for: save/student_model/S:resnet32x4_T:resnet32x4_cifar100_all_r:1.0_a:0.0_b:1.0_1_ts:0.3_strat:struct_lr:0.05/resnet8x4_best.pth\n",
      "iterating dataset for model: save/student_model/S:resnet32x4_T:resnet32x4_cifar100_all_r:0.01_a:0.0_b:1.0_2_ts:0.3_strat:struct_lr:0.05/resnet8x4_best.pth\n",
      "calculating distance for: save/student_model/S:resnet32x4_T:resnet32x4_cifar100_all_r:0.01_a:0.0_b:1.0_2_ts:0.3_strat:struct_lr:0.05/resnet8x4_best.pth\n",
      "iterating dataset for model: save/student_model/S:resnet32x4_T:resnet32x4_cifar100_all_r:0.001_a:0.0_b:1.0_3_ts:0.3_strat:struct_lr:0.05/resnet8x4_best.pth\n",
      "calculating distance for: save/student_model/S:resnet32x4_T:resnet32x4_cifar100_all_r:0.001_a:0.0_b:1.0_3_ts:0.3_strat:struct_lr:0.05/resnet8x4_best.pth\n",
      "iterating dataset for model: save/student_model/S:resnet32x4_T:resnet32x4_cifar100_all_r:1.0_a:0.0_b:1.0_3_ts:0.3_strat:struct_lr:0.05/resnet8x4_best.pth\n",
      "calculating distance for: save/student_model/S:resnet32x4_T:resnet32x4_cifar100_all_r:1.0_a:0.0_b:1.0_3_ts:0.3_strat:struct_lr:0.05/resnet8x4_best.pth\n",
      "iterating dataset for model: save/student_model/S:resnet32x4_T:resnet32x4_cifar100_all_r:0.1_a:0.0_b:1.0_1_ts:0.3_strat:struct_lr:0.05/resnet8x4_best.pth\n",
      "calculating distance for: save/student_model/S:resnet32x4_T:resnet32x4_cifar100_all_r:0.1_a:0.0_b:1.0_1_ts:0.3_strat:struct_lr:0.05/resnet8x4_best.pth\n",
      "iterating dataset for model: save/student_model/S:resnet32x4_T:resnet32x4_cifar100_all_r:1.0_a:0.0_b:1.0_2_ts:0.3_strat:struct_lr:0.05/resnet8x4_best.pth\n",
      "calculating distance for: save/student_model/S:resnet32x4_T:resnet32x4_cifar100_all_r:1.0_a:0.0_b:1.0_2_ts:0.3_strat:struct_lr:0.05/resnet8x4_best.pth\n",
      "[array([0.02112578, 0.08427027, 0.38707027, 0.11473299])]\n",
      "iterating dataset for model: save/student_model/S:resnet32x4_T:resnet32x4_cifar100_all_r:1.0_a:0.0_b:1.0_2_ts:0.45_strat:struct_lr:0.05/resnet8x4_best.pth\n",
      "calculating distance for: save/student_model/S:resnet32x4_T:resnet32x4_cifar100_all_r:1.0_a:0.0_b:1.0_2_ts:0.45_strat:struct_lr:0.05/resnet8x4_best.pth\n",
      "iterating dataset for model: save/student_model/S:resnet32x4_T:resnet32x4_cifar100_all_r:1.0_a:0.0_b:1.0_1_ts:0.45_strat:struct_lr:0.05/resnet8x4_best.pth\n",
      "calculating distance for: save/student_model/S:resnet32x4_T:resnet32x4_cifar100_all_r:1.0_a:0.0_b:1.0_1_ts:0.45_strat:struct_lr:0.05/resnet8x4_best.pth\n",
      "iterating dataset for model: save/student_model/S:resnet32x4_T:resnet32x4_cifar100_all_r:1.0_a:0.0_b:1.0_3_ts:0.45_strat:struct_lr:0.05/resnet8x4_best.pth\n",
      "calculating distance for: save/student_model/S:resnet32x4_T:resnet32x4_cifar100_all_r:1.0_a:0.0_b:1.0_3_ts:0.45_strat:struct_lr:0.05/resnet8x4_best.pth\n",
      "[array([0.02112578, 0.08427027, 0.38707027, 0.11473299]), array([0.04520613, 0.16413589, 0.50431585, 0.16410742])]\n",
      "iterating dataset for model: save/student_model/S:resnet32x4_T:resnet32x4_cifar100_all_r:1.0_a:0.0_b:1.0_2_ts:0.6_strat:struct_lr:0.05/resnet8x4_best.pth\n",
      "calculating distance for: save/student_model/S:resnet32x4_T:resnet32x4_cifar100_all_r:1.0_a:0.0_b:1.0_2_ts:0.6_strat:struct_lr:0.05/resnet8x4_best.pth\n",
      "iterating dataset for model: save/student_model/S:resnet32x4_T:resnet32x4_cifar100_all_r:1.0_a:0.0_b:1.0_3_ts:0.6_strat:struct_lr:0.05/resnet8x4_best.pth\n",
      "calculating distance for: save/student_model/S:resnet32x4_T:resnet32x4_cifar100_all_r:1.0_a:0.0_b:1.0_3_ts:0.6_strat:struct_lr:0.05/resnet8x4_best.pth\n",
      "iterating dataset for model: save/student_model/S:resnet32x4_T:resnet32x4_cifar100_all_r:1.0_a:0.0_b:1.0_1_ts:0.6_strat:struct_lr:0.05/resnet8x4_best.pth\n",
      "calculating distance for: save/student_model/S:resnet32x4_T:resnet32x4_cifar100_all_r:1.0_a:0.0_b:1.0_1_ts:0.6_strat:struct_lr:0.05/resnet8x4_best.pth\n",
      "[array([0.02112578, 0.08427027, 0.38707027, 0.11473299]), array([0.04520613, 0.16413589, 0.50431585, 0.16410742]), array([0.08614644, 0.23635338, 0.56550932, 0.21078132])]\n",
      "iterating dataset for model: save/student_model/S:resnet32x4_T:resnet32x4_cifar100_all_r:1.0_a:0.0_b:1.0_3_ts:0.75_strat:struct_lr:0.05/resnet8x4_best.pth\n",
      "calculating distance for: save/student_model/S:resnet32x4_T:resnet32x4_cifar100_all_r:1.0_a:0.0_b:1.0_3_ts:0.75_strat:struct_lr:0.05/resnet8x4_best.pth\n",
      "iterating dataset for model: save/student_model/S:resnet32x4_T:resnet32x4_cifar100_all_r:1.0_a:0.0_b:1.0_1_ts:0.75_strat:struct_lr:0.05/resnet8x4_best.pth\n",
      "calculating distance for: save/student_model/S:resnet32x4_T:resnet32x4_cifar100_all_r:1.0_a:0.0_b:1.0_1_ts:0.75_strat:struct_lr:0.05/resnet8x4_best.pth\n",
      "iterating dataset for model: save/student_model/S:resnet32x4_T:resnet32x4_cifar100_all_r:1.0_a:0.0_b:1.0_2_ts:0.75_strat:struct_lr:0.05/resnet8x4_best.pth\n",
      "calculating distance for: save/student_model/S:resnet32x4_T:resnet32x4_cifar100_all_r:1.0_a:0.0_b:1.0_2_ts:0.75_strat:struct_lr:0.05/resnet8x4_best.pth\n",
      "[array([0.02112578, 0.08427027, 0.38707027, 0.11473299]), array([0.04520613, 0.16413589, 0.50431585, 0.16410742]), array([0.08614644, 0.23635338, 0.56550932, 0.21078132]), array([0.1624126 , 0.34490173, 0.61096752, 0.27234997])]\n",
      "iterating dataset for model: save/student_model/S:resnet32x4_T:resnet32x4_cifar100_all_r:1.0_a:0.0_b:1.0_3_ts:0.9_strat:struct_lr:0.05/resnet8x4_best.pth\n",
      "calculating distance for: save/student_model/S:resnet32x4_T:resnet32x4_cifar100_all_r:1.0_a:0.0_b:1.0_3_ts:0.9_strat:struct_lr:0.05/resnet8x4_best.pth\n",
      "iterating dataset for model: save/student_model/S:resnet32x4_T:resnet32x4_cifar100_all_r:1.0_a:0.0_b:1.0_1_ts:0.9_strat:struct_lr:0.05/resnet8x4_best.pth\n",
      "calculating distance for: save/student_model/S:resnet32x4_T:resnet32x4_cifar100_all_r:1.0_a:0.0_b:1.0_1_ts:0.9_strat:struct_lr:0.05/resnet8x4_best.pth\n",
      "iterating dataset for model: save/student_model/S:resnet32x4_T:resnet32x4_cifar100_all_r:1.0_a:0.0_b:1.0_2_ts:0.9_strat:struct_lr:0.05/resnet8x4_best.pth\n",
      "calculating distance for: save/student_model/S:resnet32x4_T:resnet32x4_cifar100_all_r:1.0_a:0.0_b:1.0_2_ts:0.9_strat:struct_lr:0.05/resnet8x4_best.pth\n",
      "[array([0.02112578, 0.08427027, 0.38707027, 0.11473299]), array([0.04520613, 0.16413589, 0.50431585, 0.16410742]), array([0.08614644, 0.23635338, 0.56550932, 0.21078132]), array([0.1624126 , 0.34490173, 0.61096752, 0.27234997]), array([0.22337134, 0.4177568 , 0.59568648, 0.36828532])]\n",
      "CPU times: user 13min 57s, sys: 17min 4s, total: 31min 2s\n",
      "Wall time: 34min 29s\n"
     ]
    }
   ],
   "source": [
    "%%time\n",
    "import gc \n",
    "\n",
    "all_45 = glob.glob('save/student_model/*resnet32x4*all*ts:0.4*lr:0.05/*best.pth')\n",
    "all_30 = glob.glob('save/student_model/*resnet32x4*all*ts:0.3*lr:0.05/*best.pth')\n",
    "all_60 = glob.glob('save/student_model/*resnet32x4*all*ts:0.6*lr:0.05/*best.pth')\n",
    "all_75 = glob.glob('save/student_model/*resnet32x4*all*ts:0.7*lr:0.05/*best.pth')\n",
    "all_90 = glob.glob('save/student_model/*resnet32x4*all*ts:0.9*lr:0.05/*best.pth')\n",
    "\n",
    "\n",
    "\n",
    "results = []\n",
    "\n",
    "for sparsity in [all_30, all_45, all_60, all_75, all_90]:\n",
    "    \n",
    "    d = np.array([0.0, 0.0, 0.0, 0.0])\n",
    "    for model in sparsity:\n",
    "\n",
    "        #make sure everything is clean\n",
    "        [hook.clear() for hook in teacher_hooks]\n",
    "        [hook.clear() for hook in student_hooks]\n",
    "#         for hook in student_hooks:\n",
    "#             del hook\n",
    "        torch.cuda.empty_cache()\n",
    "        gc.collect()\n",
    "\n",
    "        #load student\n",
    "        ckpt = torch.load(model, map_location=device)\n",
    "        ckpt = fix_state_dict(ckpt['model'])\n",
    "        student.load_state_dict(ckpt, strict=True)\n",
    "        student = student.to(device)\n",
    "\n",
    "\n",
    "        #add student hooks\n",
    "        #student_hooks = anatome.SimilarityHook.create_hooks(student, sim_layers , 'svcca')\n",
    "\n",
    "        print(f\"iterating dataset for model: {model}\")\n",
    "        #make iterator and go through as much data as will fit in memory\n",
    "\n",
    "        dset = iter(dataloaders['val'])\n",
    "        for i in range(64):\n",
    "            data = next(dset)\n",
    "            with torch.no_grad():\n",
    "                data = data[0].cuda()\n",
    "                teacher(data)\n",
    "                student(data)\n",
    "\n",
    "        print(f'calculating distance for: {model}')\n",
    "        distances = []\n",
    "        for t_h, s_h in zip(teacher_hooks, student_hooks):\n",
    "            distances.append(t_h.distance(s_h, size=16))\n",
    "        d += np.array(distances)\n",
    "\n",
    "    results.append(d / len(sparsity))\n",
    "    print(results)\n",
    "    \n",
    "sims['crd_mag'] = results"
   ]
  },
  {
   "cell_type": "code",
   "execution_count": 18,
   "id": "162fd881-79f4-47dc-ac4a-f8c456d048f4",
   "metadata": {},
   "outputs": [
    {
     "data": {
      "text/plain": [
       "[array([0.02112578, 0.08427027, 0.38707027, 0.11473299]),\n",
       " array([0.04520613, 0.16413589, 0.50431585, 0.16410742]),\n",
       " array([0.08614644, 0.23635338, 0.56550932, 0.21078132]),\n",
       " array([0.1624126 , 0.34490173, 0.61096752, 0.27234997]),\n",
       " array([0.22337134, 0.4177568 , 0.59568648, 0.36828532])]"
      ]
     },
     "execution_count": 18,
     "metadata": {},
     "output_type": "execute_result"
    }
   ],
   "source": [
    "results"
   ]
  },
  {
   "cell_type": "code",
   "execution_count": 13,
   "id": "6916c866-3688-48a4-99fa-667cfe1e5ad1",
   "metadata": {},
   "outputs": [
    {
     "name": "stdout",
     "output_type": "stream",
     "text": [
      "iterating dataset for model: save/student_model/resnet32x4_cifar100_lr_0.05_decay_0.0005_trial_0_ts:0.3_strat:struct/resnet32x4_best.pth\n",
      "calculating distance for: save/student_model/resnet32x4_cifar100_lr_0.05_decay_0.0005_trial_0_ts:0.3_strat:struct/resnet32x4_best.pth\n"
     ]
    },
    {
     "name": "stderr",
     "output_type": "stream",
     "text": [
      "/home/cody/miniconda3/envs/RepDist/lib/python3.7/site-packages/torch/nn/functional.py:3458: UserWarning: Default upsampling behavior when mode=bicubic is changed to align_corners=False since 0.4.0. Please specify align_corners=True if the old behavior is desired. See the documentation of nn.Upsample for details.\n",
      "  \"See the documentation of nn.Upsample for details.\".format(mode)\n"
     ]
    },
    {
     "name": "stdout",
     "output_type": "stream",
     "text": [
      "iterating dataset for model: save/student_model/resnet32x4_cifar100_lr_0.05_decay_0.0005_trial_1_ts:0.3_strat:struct/resnet32x4_best.pth\n",
      "calculating distance for: save/student_model/resnet32x4_cifar100_lr_0.05_decay_0.0005_trial_1_ts:0.3_strat:struct/resnet32x4_best.pth\n",
      "iterating dataset for model: save/student_model/resnet32x4_cifar100_lr_0.05_decay_0.0005_trial_3_ts:0.3_strat:struct/resnet32x4_best.pth\n",
      "calculating distance for: save/student_model/resnet32x4_cifar100_lr_0.05_decay_0.0005_trial_3_ts:0.3_strat:struct/resnet32x4_best.pth\n",
      "iterating dataset for model: save/student_model/resnet32x4_cifar100_lr_0.05_decay_0.0005_trial_2_ts:0.3_strat:struct/resnet32x4_best.pth\n",
      "calculating distance for: save/student_model/resnet32x4_cifar100_lr_0.05_decay_0.0005_trial_2_ts:0.3_strat:struct/resnet32x4_best.pth\n",
      "[array([0.11076383, 0.23093504, 0.55483049, 0.20734002])]\n",
      "iterating dataset for model: save/student_model/resnet32x4_cifar100_lr_0.05_decay_0.0005_trial_0_ts:0.45_strat:struct/resnet32x4_best.pth\n",
      "calculating distance for: save/student_model/resnet32x4_cifar100_lr_0.05_decay_0.0005_trial_0_ts:0.45_strat:struct/resnet32x4_best.pth\n",
      "iterating dataset for model: save/student_model/resnet32x4_cifar100_lr_0.05_decay_0.0005_trial_1_ts:0.45_strat:struct/resnet32x4_best.pth\n",
      "calculating distance for: save/student_model/resnet32x4_cifar100_lr_0.05_decay_0.0005_trial_1_ts:0.45_strat:struct/resnet32x4_best.pth\n",
      "iterating dataset for model: save/student_model/resnet32x4_cifar100_lr_0.05_decay_0.0005_trial_2_ts:0.45_strat:struct/resnet32x4_best.pth\n",
      "calculating distance for: save/student_model/resnet32x4_cifar100_lr_0.05_decay_0.0005_trial_2_ts:0.45_strat:struct/resnet32x4_best.pth\n",
      "iterating dataset for model: save/student_model/resnet32x4_cifar100_lr_0.05_decay_0.0005_trial_3_ts:0.45_strat:struct/resnet32x4_best.pth\n",
      "calculating distance for: save/student_model/resnet32x4_cifar100_lr_0.05_decay_0.0005_trial_3_ts:0.45_strat:struct/resnet32x4_best.pth\n",
      "[array([0.11076383, 0.23093504, 0.55483049, 0.20734002]), array([0.12564581, 0.26617607, 0.57405552, 0.23733528])]\n",
      "iterating dataset for model: save/student_model/resnet32x4_cifar100_lr_0.05_decay_0.0005_trial_0_ts:0.6_strat:struct/resnet32x4_best.pth\n",
      "calculating distance for: save/student_model/resnet32x4_cifar100_lr_0.05_decay_0.0005_trial_0_ts:0.6_strat:struct/resnet32x4_best.pth\n",
      "iterating dataset for model: save/student_model/resnet32x4_cifar100_lr_0.05_decay_0.0005_trial_3_ts:0.6_strat:struct/resnet32x4_best.pth\n",
      "calculating distance for: save/student_model/resnet32x4_cifar100_lr_0.05_decay_0.0005_trial_3_ts:0.6_strat:struct/resnet32x4_best.pth\n",
      "iterating dataset for model: save/student_model/resnet32x4_cifar100_lr_0.05_decay_0.0005_trial_2_ts:0.6_strat:struct/resnet32x4_best.pth\n",
      "calculating distance for: save/student_model/resnet32x4_cifar100_lr_0.05_decay_0.0005_trial_2_ts:0.6_strat:struct/resnet32x4_best.pth\n",
      "iterating dataset for model: save/student_model/resnet32x4_cifar100_lr_0.05_decay_0.0005_trial_1_ts:0.6_strat:struct/resnet32x4_best.pth\n",
      "calculating distance for: save/student_model/resnet32x4_cifar100_lr_0.05_decay_0.0005_trial_1_ts:0.6_strat:struct/resnet32x4_best.pth\n",
      "[array([0.11076383, 0.23093504, 0.55483049, 0.20734002]), array([0.12564581, 0.26617607, 0.57405552, 0.23733528]), array([0.16858421, 0.31926581, 0.60245958, 0.273138  ])]\n",
      "iterating dataset for model: save/student_model/resnet32x4_cifar100_lr_0.05_decay_0.0005_trial_2_ts:0.75_strat:struct/resnet32x4_best.pth\n",
      "calculating distance for: save/student_model/resnet32x4_cifar100_lr_0.05_decay_0.0005_trial_2_ts:0.75_strat:struct/resnet32x4_best.pth\n",
      "iterating dataset for model: save/student_model/resnet32x4_cifar100_lr_0.05_decay_0.0005_trial_0_ts:0.75_strat:struct/resnet32x4_best.pth\n",
      "calculating distance for: save/student_model/resnet32x4_cifar100_lr_0.05_decay_0.0005_trial_0_ts:0.75_strat:struct/resnet32x4_best.pth\n",
      "iterating dataset for model: save/student_model/resnet32x4_cifar100_lr_0.05_decay_0.0005_trial_1_ts:0.75_strat:struct/resnet32x4_best.pth\n",
      "calculating distance for: save/student_model/resnet32x4_cifar100_lr_0.05_decay_0.0005_trial_1_ts:0.75_strat:struct/resnet32x4_best.pth\n",
      "iterating dataset for model: save/student_model/resnet32x4_cifar100_lr_0.05_decay_0.0005_trial_3_ts:0.75_strat:struct/resnet32x4_best.pth\n",
      "calculating distance for: save/student_model/resnet32x4_cifar100_lr_0.05_decay_0.0005_trial_3_ts:0.75_strat:struct/resnet32x4_best.pth\n",
      "[array([0.11076383, 0.23093504, 0.55483049, 0.20734002]), array([0.12564581, 0.26617607, 0.57405552, 0.23733528]), array([0.16858421, 0.31926581, 0.60245958, 0.273138  ]), array([0.22644553, 0.39126544, 0.63017884, 0.28000446])]\n",
      "iterating dataset for model: save/student_model/resnet32x4_cifar100_lr_0.05_decay_0.0005_trial_3_ts:0.9_strat:struct/resnet32x4_best.pth\n",
      "calculating distance for: save/student_model/resnet32x4_cifar100_lr_0.05_decay_0.0005_trial_3_ts:0.9_strat:struct/resnet32x4_best.pth\n",
      "iterating dataset for model: save/student_model/resnet32x4_cifar100_lr_0.05_decay_0.0005_trial_1_ts:0.9_strat:struct/resnet32x4_best.pth\n",
      "calculating distance for: save/student_model/resnet32x4_cifar100_lr_0.05_decay_0.0005_trial_1_ts:0.9_strat:struct/resnet32x4_best.pth\n",
      "iterating dataset for model: save/student_model/resnet32x4_cifar100_lr_0.05_decay_0.0005_trial_2_ts:0.9_strat:struct/resnet32x4_best.pth\n",
      "calculating distance for: save/student_model/resnet32x4_cifar100_lr_0.05_decay_0.0005_trial_2_ts:0.9_strat:struct/resnet32x4_best.pth\n",
      "iterating dataset for model: save/student_model/resnet32x4_cifar100_lr_0.05_decay_0.0005_trial_0_ts:0.9_strat:struct/resnet32x4_best.pth\n",
      "calculating distance for: save/student_model/resnet32x4_cifar100_lr_0.05_decay_0.0005_trial_0_ts:0.9_strat:struct/resnet32x4_best.pth\n",
      "[array([0.11076383, 0.23093504, 0.55483049, 0.20734002]), array([0.12564581, 0.26617607, 0.57405552, 0.23733528]), array([0.16858421, 0.31926581, 0.60245958, 0.273138  ]), array([0.22644553, 0.39126544, 0.63017884, 0.28000446]), array([0.23203238, 0.42617299, 0.62021048, 0.31071572])]\n",
      "CPU times: user 14min 38s, sys: 18min 22s, total: 33min 1s\n",
      "Wall time: 33min 36s\n"
     ]
    }
   ],
   "source": [
    "%%time\n",
    "import gc \n",
    "\n",
    "mag_30 = glob.glob('save/student_model/*lr_0.05*ts:0.3*/*best.pth')\n",
    "mag_45 = glob.glob('save/student_model/*lr_0.05*ts:0.4*/*best.pth') \n",
    "mag_60 = glob.glob('save/student_model/*lr_0.05*ts:0.6*/*best.pth') \n",
    "mag_75 = glob.glob('save/student_model/*lr_0.05*ts:0.7*/*best.pth')\n",
    "mag_90 = glob.glob('save/student_model/*lr_0.05*ts:0.9*/*best.pth') \n",
    "\n",
    "results = []\n",
    "\n",
    "for sparsity in [mag_30, mag_45, mag_60, mag_75, mag_90]:\n",
    "    \n",
    "    d = np.array([0.0, 0.0, 0.0, 0.0])\n",
    "    for model in sparsity:\n",
    "\n",
    "        #make sure everything is clean\n",
    "        [hook.clear() for hook in teacher_hooks]\n",
    "        [hook.clear() for hook in student_hooks]\n",
    "#         for hook in student_hooks:\n",
    "#             del hook\n",
    "        torch.cuda.empty_cache()\n",
    "        gc.collect()\n",
    "\n",
    "        #load student\n",
    "        ckpt = torch.load(model, map_location=device)\n",
    "        ckpt = fix_state_dict(ckpt['model'])\n",
    "        student.load_state_dict(ckpt, strict=True)\n",
    "        student = student.to(device)\n",
    "\n",
    "\n",
    "        #add student hooks\n",
    "        #student_hooks = anatome.SimilarityHook.create_hooks(student, sim_layers , 'svcca')\n",
    "\n",
    "        print(f\"iterating dataset for model: {model}\")\n",
    "        #make iterator and go through as much data as will fit in memory\n",
    "\n",
    "        dset = iter(dataloaders['val'])\n",
    "        for i in range(64):\n",
    "            data = next(dset)\n",
    "            with torch.no_grad():\n",
    "                data = data[0].cuda()\n",
    "                teacher(data)\n",
    "                student(data)\n",
    "\n",
    "        print(f'calculating distance for: {model}')\n",
    "        distances = []\n",
    "        for t_h, s_h in zip(teacher_hooks, student_hooks):\n",
    "            distances.append(t_h.distance(s_h, size=16))\n",
    "        d += np.array(distances)\n",
    "\n",
    "    results.append(d / len(sparsity))\n",
    "    print(results)\n",
    "    \n",
    "sims['struct_mag'] = results"
   ]
  },
  {
   "cell_type": "raw",
   "id": "8395aecc-a375-4325-8d56-4ececf57e59f",
   "metadata": {},
   "source": [
    "sims['struct_mag'] = results"
   ]
  },
  {
   "cell_type": "code",
   "execution_count": 17,
   "id": "28c69f89-83e1-43d7-91af-bd40d143a27d",
   "metadata": {
    "tags": []
   },
   "outputs": [
    {
     "name": "stdout",
     "output_type": "stream",
     "text": [
      "iterating dataset for model: save/student_model/S:resnet32x4_T:resnet32x4_cifar100_similarity_r:1_a:0.0_b:3000.0_1_ts:0.3_strat:struct_lr:0.05/resnet8x4_best.pth\n",
      "calculating distance for: save/student_model/S:resnet32x4_T:resnet32x4_cifar100_similarity_r:1_a:0.0_b:3000.0_1_ts:0.3_strat:struct_lr:0.05/resnet8x4_best.pth\n",
      "iterating dataset for model: save/student_model/S:resnet32x4_T:resnet32x4_cifar100_similarity_r:1_a:0.0_b:3000.0_2_ts:0.3_strat:struct_lr:0.05/resnet8x4_best.pth\n",
      "calculating distance for: save/student_model/S:resnet32x4_T:resnet32x4_cifar100_similarity_r:1_a:0.0_b:3000.0_2_ts:0.3_strat:struct_lr:0.05/resnet8x4_best.pth\n",
      "iterating dataset for model: save/student_model/S:resnet32x4_T:resnet32x4_cifar100_similarity_r:1_a:0.0_b:3000.0_0_ts:0.3_strat:struct_lr:0.05/resnet8x4_best.pth\n",
      "calculating distance for: save/student_model/S:resnet32x4_T:resnet32x4_cifar100_similarity_r:1_a:0.0_b:3000.0_0_ts:0.3_strat:struct_lr:0.05/resnet8x4_best.pth\n",
      "iterating dataset for model: save/student_model/S:resnet32x4_T:resnet32x4_cifar100_similarity_r:1_a:0.0_b:3000.0_1_ts:0.3_strat:struct_lr:0.1/resnet8x4_best.pth\n",
      "calculating distance for: save/student_model/S:resnet32x4_T:resnet32x4_cifar100_similarity_r:1_a:0.0_b:3000.0_1_ts:0.3_strat:struct_lr:0.1/resnet8x4_best.pth\n",
      "iterating dataset for model: save/student_model/S:resnet32x4_T:resnet32x4_cifar100_similarity_r:1_a:0.0_b:3000.0_1_ts:0.3_strat:struct_lr:0.005/resnet8x4_best.pth\n",
      "calculating distance for: save/student_model/S:resnet32x4_T:resnet32x4_cifar100_similarity_r:1_a:0.0_b:3000.0_1_ts:0.3_strat:struct_lr:0.005/resnet8x4_best.pth\n",
      "iterating dataset for model: save/student_model/S:resnet32x4_T:resnet32x4_cifar100_similarity_r:1_a:0.0_b:3000.0_3_ts:0.3_strat:struct_lr:0.05/resnet8x4_best.pth\n",
      "calculating distance for: save/student_model/S:resnet32x4_T:resnet32x4_cifar100_similarity_r:1_a:0.0_b:3000.0_3_ts:0.3_strat:struct_lr:0.05/resnet8x4_best.pth\n",
      "[array([0.07492287, 0.16262624, 0.44531006, 0.1222202 ])]\n",
      "iterating dataset for model: save/student_model/S:resnet32x4_T:resnet32x4_cifar100_similarity_r:1_a:0.0_b:3000.0_1_ts:0.45_strat:struct_lr:0.05/resnet8x4_best.pth\n",
      "calculating distance for: save/student_model/S:resnet32x4_T:resnet32x4_cifar100_similarity_r:1_a:0.0_b:3000.0_1_ts:0.45_strat:struct_lr:0.05/resnet8x4_best.pth\n",
      "iterating dataset for model: save/student_model/S:resnet32x4_T:resnet32x4_cifar100_similarity_r:1_a:0.0_b:3000.0_3_ts:0.45_strat:struct_lr:0.05/resnet8x4_best.pth\n",
      "calculating distance for: save/student_model/S:resnet32x4_T:resnet32x4_cifar100_similarity_r:1_a:0.0_b:3000.0_3_ts:0.45_strat:struct_lr:0.05/resnet8x4_best.pth\n",
      "iterating dataset for model: save/student_model/S:resnet32x4_T:resnet32x4_cifar100_similarity_r:1_a:0.0_b:3000.0_0_ts:0.45_strat:struct_lr:0.05/resnet8x4_best.pth\n",
      "calculating distance for: save/student_model/S:resnet32x4_T:resnet32x4_cifar100_similarity_r:1_a:0.0_b:3000.0_0_ts:0.45_strat:struct_lr:0.05/resnet8x4_best.pth\n",
      "iterating dataset for model: save/student_model/S:resnet32x4_T:resnet32x4_cifar100_similarity_r:1_a:0.0_b:3000.0_2_ts:0.45_strat:struct_lr:0.05/resnet8x4_best.pth\n",
      "calculating distance for: save/student_model/S:resnet32x4_T:resnet32x4_cifar100_similarity_r:1_a:0.0_b:3000.0_2_ts:0.45_strat:struct_lr:0.05/resnet8x4_best.pth\n",
      "[array([0.07492287, 0.16262624, 0.44531006, 0.1222202 ]), array([0.11477873, 0.2398724 , 0.53158841, 0.16901009])]\n",
      "iterating dataset for model: save/student_model/S:resnet32x4_T:resnet32x4_cifar100_similarity_r:1_a:0.0_b:3000.0_2_ts:0.6_strat:struct_lr:0.05/resnet8x4_best.pth\n",
      "calculating distance for: save/student_model/S:resnet32x4_T:resnet32x4_cifar100_similarity_r:1_a:0.0_b:3000.0_2_ts:0.6_strat:struct_lr:0.05/resnet8x4_best.pth\n",
      "iterating dataset for model: save/student_model/S:resnet32x4_T:resnet32x4_cifar100_similarity_r:1_a:0.0_b:3000.0_1_ts:0.6_strat:struct_lr:0.05/resnet8x4_best.pth\n",
      "calculating distance for: save/student_model/S:resnet32x4_T:resnet32x4_cifar100_similarity_r:1_a:0.0_b:3000.0_1_ts:0.6_strat:struct_lr:0.05/resnet8x4_best.pth\n",
      "iterating dataset for model: save/student_model/S:resnet32x4_T:resnet32x4_cifar100_similarity_r:1_a:0.0_b:3000.0_0_ts:0.6_strat:struct_lr:0.05/resnet8x4_best.pth\n",
      "calculating distance for: save/student_model/S:resnet32x4_T:resnet32x4_cifar100_similarity_r:1_a:0.0_b:3000.0_0_ts:0.6_strat:struct_lr:0.05/resnet8x4_best.pth\n",
      "iterating dataset for model: save/student_model/S:resnet32x4_T:resnet32x4_cifar100_similarity_r:1_a:0.0_b:3000.0_3_ts:0.6_strat:struct_lr:0.05/resnet8x4_best.pth\n",
      "calculating distance for: save/student_model/S:resnet32x4_T:resnet32x4_cifar100_similarity_r:1_a:0.0_b:3000.0_3_ts:0.6_strat:struct_lr:0.05/resnet8x4_best.pth\n",
      "[array([0.07492287, 0.16262624, 0.44531006, 0.1222202 ]), array([0.11477873, 0.2398724 , 0.53158841, 0.16901009]), array([0.16076702, 0.30538747, 0.58111922, 0.21462908])]\n",
      "iterating dataset for model: save/student_model/S:resnet32x4_T:resnet32x4_cifar100_similarity_r:1_a:0.0_b:3000.0_0_ts:0.75_strat:struct_lr:0.05/resnet8x4_best.pth\n",
      "calculating distance for: save/student_model/S:resnet32x4_T:resnet32x4_cifar100_similarity_r:1_a:0.0_b:3000.0_0_ts:0.75_strat:struct_lr:0.05/resnet8x4_best.pth\n",
      "iterating dataset for model: save/student_model/S:resnet32x4_T:resnet32x4_cifar100_similarity_r:1_a:0.0_b:3000.0_3_ts:0.75_strat:struct_lr:0.05/resnet8x4_best.pth\n",
      "calculating distance for: save/student_model/S:resnet32x4_T:resnet32x4_cifar100_similarity_r:1_a:0.0_b:3000.0_3_ts:0.75_strat:struct_lr:0.05/resnet8x4_best.pth\n",
      "iterating dataset for model: save/student_model/S:resnet32x4_T:resnet32x4_cifar100_similarity_r:1_a:0.0_b:3000.0_1_ts:0.75_strat:struct_lr:0.05/resnet8x4_best.pth\n",
      "calculating distance for: save/student_model/S:resnet32x4_T:resnet32x4_cifar100_similarity_r:1_a:0.0_b:3000.0_1_ts:0.75_strat:struct_lr:0.05/resnet8x4_best.pth\n",
      "iterating dataset for model: save/student_model/S:resnet32x4_T:resnet32x4_cifar100_similarity_r:1_a:0.0_b:3000.0_2_ts:0.75_strat:struct_lr:0.05/resnet8x4_best.pth\n",
      "calculating distance for: save/student_model/S:resnet32x4_T:resnet32x4_cifar100_similarity_r:1_a:0.0_b:3000.0_2_ts:0.75_strat:struct_lr:0.05/resnet8x4_best.pth\n",
      "[array([0.07492287, 0.16262624, 0.44531006, 0.1222202 ]), array([0.11477873, 0.2398724 , 0.53158841, 0.16901009]), array([0.16076702, 0.30538747, 0.58111922, 0.21462908]), array([0.22093787, 0.38569866, 0.62026973, 0.22960122])]\n",
      "iterating dataset for model: save/student_model/S:resnet32x4_T:resnet32x4_cifar100_similarity_r:1_a:0.0_b:3000.0_0_ts:0.9_strat:struct_lr:0.05/resnet8x4_best.pth\n",
      "calculating distance for: save/student_model/S:resnet32x4_T:resnet32x4_cifar100_similarity_r:1_a:0.0_b:3000.0_0_ts:0.9_strat:struct_lr:0.05/resnet8x4_best.pth\n",
      "iterating dataset for model: save/student_model/S:resnet32x4_T:resnet32x4_cifar100_similarity_r:1_a:0.0_b:3000.0_3_ts:0.9_strat:struct_lr:0.05/resnet8x4_best.pth\n",
      "calculating distance for: save/student_model/S:resnet32x4_T:resnet32x4_cifar100_similarity_r:1_a:0.0_b:3000.0_3_ts:0.9_strat:struct_lr:0.05/resnet8x4_best.pth\n",
      "iterating dataset for model: save/student_model/S:resnet32x4_T:resnet32x4_cifar100_similarity_r:1_a:0.0_b:3000.0_1_ts:0.9_strat:struct_lr:0.05/resnet8x4_best.pth\n",
      "calculating distance for: save/student_model/S:resnet32x4_T:resnet32x4_cifar100_similarity_r:1_a:0.0_b:3000.0_1_ts:0.9_strat:struct_lr:0.05/resnet8x4_best.pth\n",
      "iterating dataset for model: save/student_model/S:resnet32x4_T:resnet32x4_cifar100_similarity_r:1_a:0.0_b:3000.0_2_ts:0.9_strat:struct_lr:0.05/resnet8x4_best.pth\n",
      "calculating distance for: save/student_model/S:resnet32x4_T:resnet32x4_cifar100_similarity_r:1_a:0.0_b:3000.0_2_ts:0.9_strat:struct_lr:0.05/resnet8x4_best.pth\n",
      "[array([0.07492287, 0.16262624, 0.44531006, 0.1222202 ]), array([0.11477873, 0.2398724 , 0.53158841, 0.16901009]), array([0.16076702, 0.30538747, 0.58111922, 0.21462908]), array([0.22093787, 0.38569866, 0.62026973, 0.22960122]), array([0.22687929, 0.4183962 , 0.61449039, 0.34005357])]\n"
     ]
    }
   ],
   "source": [
    "sim_30 = glob.glob('save/student_model/*similarity*ts:0.3*/*best.pth') \n",
    "sim_45 = glob.glob('save/student_model/*similarity*ts:0.4*/*best.pth')\n",
    "sim_60 = glob.glob('save/student_model/*similarity*ts:0.6*/*best.pth')\n",
    "sim_75 = glob.glob('save/student_model/*similarity*ts:0.7*/*best.pth') \n",
    "sim_90 = glob.glob('save/student_model/*similarity*ts:0.9*/*best.pth')\n",
    "\n",
    "results = []\n",
    "\n",
    "for sparsity in [sim_30, sim_45, sim_60, sim_75, sim_90]:\n",
    "    \n",
    "    d = np.array([0.0, 0.0, 0.0, 0.0])\n",
    "    for model in sparsity:\n",
    "\n",
    "        #make sure everything is clean\n",
    "        [hook.clear() for hook in teacher_hooks]\n",
    "        [hook.clear() for hook in student_hooks]\n",
    "#         for hook in student_hooks:\n",
    "#             del hook\n",
    "        torch.cuda.empty_cache()\n",
    "        gc.collect()\n",
    "\n",
    "        #load student\n",
    "        ckpt = torch.load(model, map_location=device)\n",
    "        ckpt = fix_state_dict(ckpt['model'])\n",
    "        student.load_state_dict(ckpt, strict=True)\n",
    "        student = student.to(device)\n",
    "\n",
    "\n",
    "        #add student hooks\n",
    "        #student_hooks = anatome.SimilarityHook.create_hooks(student, sim_layers , 'svcca')\n",
    "\n",
    "        print(f\"iterating dataset for model: {model}\")\n",
    "        #make iterator and go through as much data as will fit in memory\n",
    "\n",
    "        dset = iter(dataloaders['val'])\n",
    "        for i in range(64):\n",
    "            data = next(dset)\n",
    "            with torch.no_grad():\n",
    "                data = data[0].cuda()\n",
    "                teacher(data)\n",
    "                student(data)\n",
    "\n",
    "        print(f'calculating distance for: {model}')\n",
    "        distances = []\n",
    "        for t_h, s_h in zip(teacher_hooks, student_hooks):\n",
    "            distances.append(t_h.distance(s_h, size=16))\n",
    "        d += np.array(distances)\n",
    "\n",
    "    results.append(d / len(sparsity))\n",
    "    print(results)\n",
    "\n",
    "sims['sim'] = results"
   ]
  },
  {
   "cell_type": "code",
   "execution_count": 18,
   "id": "500dc1db-d8a6-42e8-8351-a56ab51cb239",
   "metadata": {
    "tags": []
   },
   "outputs": [
    {
     "name": "stdout",
     "output_type": "stream",
     "text": [
      "iterating dataset for model: save/student_model/S:resnet32x4_T:resnet32x4_cifar100_kd_r:0.1_a:0.9_b:0.0_2_ts:0.3_strat:struct_lr:0.05/resnet8x4_best.pth\n",
      "calculating distance for: save/student_model/S:resnet32x4_T:resnet32x4_cifar100_kd_r:0.1_a:0.9_b:0.0_2_ts:0.3_strat:struct_lr:0.05/resnet8x4_best.pth\n",
      "iterating dataset for model: save/student_model/S:resnet32x4_T:resnet32x4_cifar100_kd_r:0.1_a:0.9_b:0.0_4_ts:0.3_strat:struct_lr:0.05/resnet8x4_best.pth\n",
      "calculating distance for: save/student_model/S:resnet32x4_T:resnet32x4_cifar100_kd_r:0.1_a:0.9_b:0.0_4_ts:0.3_strat:struct_lr:0.05/resnet8x4_best.pth\n",
      "iterating dataset for model: save/student_model/S:resnet32x4_T:resnet32x4_cifar100_kd_r:0.1_a:0.9_b:0.0_1_ts:0.3_strat:struct_lr:0.05/resnet8x4_best.pth\n",
      "calculating distance for: save/student_model/S:resnet32x4_T:resnet32x4_cifar100_kd_r:0.1_a:0.9_b:0.0_1_ts:0.3_strat:struct_lr:0.05/resnet8x4_best.pth\n",
      "iterating dataset for model: save/student_model/S:resnet32x4_T:resnet32x4_cifar100_kd_r:0.1_a:0.9_b:0.0_3_ts:0.3_strat:struct_lr:0.05/resnet8x4_best.pth\n",
      "calculating distance for: save/student_model/S:resnet32x4_T:resnet32x4_cifar100_kd_r:0.1_a:0.9_b:0.0_3_ts:0.3_strat:struct_lr:0.05/resnet8x4_best.pth\n",
      "iterating dataset for model: save/student_model/S:resnet32x4_T:resnet32x4_cifar100_kd_r:0.1_a:0.9_b:0.0_0_ts:0.3_strat:struct_lr:0.05/resnet8x4_best.pth\n",
      "calculating distance for: save/student_model/S:resnet32x4_T:resnet32x4_cifar100_kd_r:0.1_a:0.9_b:0.0_0_ts:0.3_strat:struct_lr:0.05/resnet8x4_best.pth\n",
      "[array([0.0793261 , 0.17867119, 0.48005776, 0.1256899 ])]\n",
      "iterating dataset for model: save/student_model/S:resnet32x4_T:resnet32x4_cifar100_kd_r:0.1_a:0.9_b:0.0_3_ts:0.45_strat:struct_lr:0.05/resnet8x4_best.pth\n",
      "calculating distance for: save/student_model/S:resnet32x4_T:resnet32x4_cifar100_kd_r:0.1_a:0.9_b:0.0_3_ts:0.45_strat:struct_lr:0.05/resnet8x4_best.pth\n",
      "iterating dataset for model: save/student_model/S:resnet32x4_T:resnet32x4_cifar100_kd_r:0.1_a:0.9_b:0.0_1_ts:0.45_strat:struct_lr:0.05/resnet8x4_best.pth\n",
      "calculating distance for: save/student_model/S:resnet32x4_T:resnet32x4_cifar100_kd_r:0.1_a:0.9_b:0.0_1_ts:0.45_strat:struct_lr:0.05/resnet8x4_best.pth\n",
      "iterating dataset for model: save/student_model/S:resnet32x4_T:resnet32x4_cifar100_kd_r:0.1_a:0.9_b:0.0_2_ts:0.45_strat:struct_lr:0.05/resnet8x4_best.pth\n",
      "calculating distance for: save/student_model/S:resnet32x4_T:resnet32x4_cifar100_kd_r:0.1_a:0.9_b:0.0_2_ts:0.45_strat:struct_lr:0.05/resnet8x4_best.pth\n",
      "iterating dataset for model: save/student_model/S:resnet32x4_T:resnet32x4_cifar100_kd_r:0.1_a:0.9_b:0.0_0_ts:0.45_strat:struct_lr:0.05/resnet8x4_best.pth\n",
      "calculating distance for: save/student_model/S:resnet32x4_T:resnet32x4_cifar100_kd_r:0.1_a:0.9_b:0.0_0_ts:0.45_strat:struct_lr:0.05/resnet8x4_best.pth\n",
      "[array([0.0793261 , 0.17867119, 0.48005776, 0.1256899 ]), array([0.10877489, 0.23096418, 0.53844362, 0.15449415])]\n",
      "iterating dataset for model: save/student_model/S:resnet32x4_T:resnet32x4_cifar100_kd_r:0.1_a:0.9_b:0.0_2_ts:0.6_strat:struct_lr:0.05/resnet8x4_best.pth\n",
      "calculating distance for: save/student_model/S:resnet32x4_T:resnet32x4_cifar100_kd_r:0.1_a:0.9_b:0.0_2_ts:0.6_strat:struct_lr:0.05/resnet8x4_best.pth\n",
      "iterating dataset for model: save/student_model/S:resnet32x4_T:resnet32x4_cifar100_kd_r:0.1_a:0.9_b:0.0_0_ts:0.6_strat:struct_lr:0.05/resnet8x4_best.pth\n",
      "calculating distance for: save/student_model/S:resnet32x4_T:resnet32x4_cifar100_kd_r:0.1_a:0.9_b:0.0_0_ts:0.6_strat:struct_lr:0.05/resnet8x4_best.pth\n",
      "iterating dataset for model: save/student_model/S:resnet32x4_T:resnet32x4_cifar100_kd_r:0.1_a:0.9_b:0.0_1_ts:0.6_strat:struct_lr:0.05/resnet8x4_best.pth\n",
      "calculating distance for: save/student_model/S:resnet32x4_T:resnet32x4_cifar100_kd_r:0.1_a:0.9_b:0.0_1_ts:0.6_strat:struct_lr:0.05/resnet8x4_best.pth\n",
      "iterating dataset for model: save/student_model/S:resnet32x4_T:resnet32x4_cifar100_kd_r:0.1_a:0.9_b:0.0_3_ts:0.6_strat:struct_lr:0.05/resnet8x4_best.pth\n",
      "calculating distance for: save/student_model/S:resnet32x4_T:resnet32x4_cifar100_kd_r:0.1_a:0.9_b:0.0_3_ts:0.6_strat:struct_lr:0.05/resnet8x4_best.pth\n",
      "[array([0.0793261 , 0.17867119, 0.48005776, 0.1256899 ]), array([0.10877489, 0.23096418, 0.53844362, 0.15449415]), array([0.15264054, 0.30507977, 0.58796684, 0.19709052])]\n",
      "iterating dataset for model: save/student_model/S:resnet32x4_T:resnet32x4_cifar100_kd_r:0.1_a:0.9_b:0.0_2_ts:0.75_strat:struct_lr:0.05/resnet8x4_best.pth\n",
      "calculating distance for: save/student_model/S:resnet32x4_T:resnet32x4_cifar100_kd_r:0.1_a:0.9_b:0.0_2_ts:0.75_strat:struct_lr:0.05/resnet8x4_best.pth\n",
      "iterating dataset for model: save/student_model/S:resnet32x4_T:resnet32x4_cifar100_kd_r:0.1_a:0.9_b:0.0_3_ts:0.75_strat:struct_lr:0.05/resnet8x4_best.pth\n",
      "calculating distance for: save/student_model/S:resnet32x4_T:resnet32x4_cifar100_kd_r:0.1_a:0.9_b:0.0_3_ts:0.75_strat:struct_lr:0.05/resnet8x4_best.pth\n",
      "iterating dataset for model: save/student_model/S:resnet32x4_T:resnet32x4_cifar100_kd_r:0.1_a:0.9_b:0.0_1_ts:0.75_strat:struct_lr:0.05/resnet8x4_best.pth\n",
      "calculating distance for: save/student_model/S:resnet32x4_T:resnet32x4_cifar100_kd_r:0.1_a:0.9_b:0.0_1_ts:0.75_strat:struct_lr:0.05/resnet8x4_best.pth\n",
      "iterating dataset for model: save/student_model/S:resnet32x4_T:resnet32x4_cifar100_kd_r:0.1_a:0.9_b:0.0_0_ts:0.75_strat:struct_lr:0.05/resnet8x4_best.pth\n",
      "calculating distance for: save/student_model/S:resnet32x4_T:resnet32x4_cifar100_kd_r:0.1_a:0.9_b:0.0_0_ts:0.75_strat:struct_lr:0.05/resnet8x4_best.pth\n",
      "[array([0.0793261 , 0.17867119, 0.48005776, 0.1256899 ]), array([0.10877489, 0.23096418, 0.53844362, 0.15449415]), array([0.15264054, 0.30507977, 0.58796684, 0.19709052]), array([0.22057854, 0.39440924, 0.62250158, 0.22471598])]\n",
      "iterating dataset for model: save/student_model/S:resnet32x4_T:resnet32x4_cifar100_kd_r:0.1_a:0.9_b:0.0_0_ts:0.9_strat:struct_lr:0.05/resnet8x4_best.pth\n",
      "calculating distance for: save/student_model/S:resnet32x4_T:resnet32x4_cifar100_kd_r:0.1_a:0.9_b:0.0_0_ts:0.9_strat:struct_lr:0.05/resnet8x4_best.pth\n",
      "iterating dataset for model: save/student_model/S:resnet32x4_T:resnet32x4_cifar100_kd_r:0.1_a:0.9_b:0.0_2_ts:0.9_strat:struct_lr:0.05/resnet8x4_best.pth\n",
      "calculating distance for: save/student_model/S:resnet32x4_T:resnet32x4_cifar100_kd_r:0.1_a:0.9_b:0.0_2_ts:0.9_strat:struct_lr:0.05/resnet8x4_best.pth\n",
      "iterating dataset for model: save/student_model/S:resnet32x4_T:resnet32x4_cifar100_kd_r:0.1_a:0.9_b:0.0_3_ts:0.9_strat:struct_lr:0.05/resnet8x4_best.pth\n",
      "calculating distance for: save/student_model/S:resnet32x4_T:resnet32x4_cifar100_kd_r:0.1_a:0.9_b:0.0_3_ts:0.9_strat:struct_lr:0.05/resnet8x4_best.pth\n",
      "iterating dataset for model: save/student_model/S:resnet32x4_T:resnet32x4_cifar100_kd_r:0.1_a:0.9_b:0.0_1_ts:0.9_strat:struct_lr:0.05/resnet8x4_best.pth\n",
      "calculating distance for: save/student_model/S:resnet32x4_T:resnet32x4_cifar100_kd_r:0.1_a:0.9_b:0.0_1_ts:0.9_strat:struct_lr:0.05/resnet8x4_best.pth\n",
      "[array([0.0793261 , 0.17867119, 0.48005776, 0.1256899 ]), array([0.10877489, 0.23096418, 0.53844362, 0.15449415]), array([0.15264054, 0.30507977, 0.58796684, 0.19709052]), array([0.22057854, 0.39440924, 0.62250158, 0.22471598]), array([0.24369474, 0.43213832, 0.59883173, 0.42920731])]\n"
     ]
    }
   ],
   "source": [
    "kd_30 = glob.glob('save/student_model/*resnet32x4*kd*ts:0.3*lr:0.05/*best.pth') \n",
    "kd_45 = glob.glob('save/student_model/*resnet32x4*kd*ts:0.4*lr:0.05/*best.pth') \n",
    "kd_60 = glob.glob('save/student_model/*resnet32x4*kd*ts:0.6*lr:0.05/*best.pth') \n",
    "kd_75 = glob.glob('save/student_model/*resnet32x4*kd*ts:0.7*lr:0.05/*best.pth') \n",
    "kd_90 = glob.glob('save/student_model/*resnet32x4*kd*ts:0.9*lr:0.05/*best.pth') \n",
    "\n",
    "results = []\n",
    "\n",
    "for sparsity in [kd_30, kd_45, kd_60, kd_75, kd_90]:\n",
    "    \n",
    "    d = np.array([0.0, 0.0, 0.0, 0.0])\n",
    "    for model in sparsity:\n",
    "\n",
    "        #make sure everything is clean\n",
    "        [hook.clear() for hook in teacher_hooks]\n",
    "        [hook.clear() for hook in student_hooks]\n",
    "#         for hook in student_hooks:\n",
    "#             del hook\n",
    "        torch.cuda.empty_cache()\n",
    "        gc.collect()\n",
    "\n",
    "        #load student\n",
    "        ckpt = torch.load(model, map_location=device)\n",
    "        ckpt = fix_state_dict(ckpt['model'])\n",
    "        student.load_state_dict(ckpt, strict=True)\n",
    "        student = student.to(device)\n",
    "\n",
    "\n",
    "        #add student hooks\n",
    "        #student_hooks = anatome.SimilarityHook.create_hooks(student, sim_layers , 'svcca')\n",
    "\n",
    "        print(f\"iterating dataset for model: {model}\")\n",
    "        #make iterator and go through as much data as will fit in memory\n",
    "\n",
    "        dset = iter(dataloaders['val'])\n",
    "        for i in range(64):\n",
    "            data = next(dset)\n",
    "            with torch.no_grad():\n",
    "                data = data[0].cuda()\n",
    "                teacher(data)\n",
    "                student(data)\n",
    "\n",
    "        print(f'calculating distance for: {model}')\n",
    "        distances = []\n",
    "        for t_h, s_h in zip(teacher_hooks, student_hooks):\n",
    "            distances.append(t_h.distance(s_h, size=16))\n",
    "        d += np.array(distances)\n",
    "\n",
    "    results.append(d / len(sparsity))\n",
    "    print(results)\n",
    "\n",
    "sims['kd'] = results"
   ]
  },
  {
   "cell_type": "code",
   "execution_count": 19,
   "id": "33b49773-e381-4cf7-9ed3-eb53bcdd18c6",
   "metadata": {
    "tags": []
   },
   "outputs": [
    {
     "name": "stdout",
     "output_type": "stream",
     "text": [
      "iterating dataset for model: save/student_model/S:resnet32x4_T:resnet32x4_cifar100_attention_r:1_a:0.0_b:1000.0_3_ts:0.3_strat:struct_lr:0.005/resnet8_best.pth\n",
      "calculating distance for: save/student_model/S:resnet32x4_T:resnet32x4_cifar100_attention_r:1_a:0.0_b:1000.0_3_ts:0.3_strat:struct_lr:0.005/resnet8_best.pth\n",
      "iterating dataset for model: save/student_model/S:resnet32x4_T:resnet32x4_cifar100_attention_r:1_a:0.0_b:1000.0_4_ts:0.3_strat:struct_lr:0.005/resnet8_best.pth\n",
      "calculating distance for: save/student_model/S:resnet32x4_T:resnet32x4_cifar100_attention_r:1_a:0.0_b:1000.0_4_ts:0.3_strat:struct_lr:0.005/resnet8_best.pth\n",
      "iterating dataset for model: save/student_model/S:resnet32x4_T:resnet32x4_cifar100_attention_r:1_a:0.0_b:1000.0_2_ts:0.3_strat:struct_lr:0.005/resnet8_best.pth\n",
      "calculating distance for: save/student_model/S:resnet32x4_T:resnet32x4_cifar100_attention_r:1_a:0.0_b:1000.0_2_ts:0.3_strat:struct_lr:0.005/resnet8_best.pth\n",
      "iterating dataset for model: save/student_model/S:resnet32x4_T:resnet32x4_cifar100_attention_r:1_a:0.0_b:1000.0_0_ts:0.3_strat:struct_lr:0.005/resnet8_best.pth\n",
      "calculating distance for: save/student_model/S:resnet32x4_T:resnet32x4_cifar100_attention_r:1_a:0.0_b:1000.0_0_ts:0.3_strat:struct_lr:0.005/resnet8_best.pth\n",
      "iterating dataset for model: save/student_model/S:resnet32x4_T:resnet32x4_cifar100_attention_r:1_a:0.0_b:1000.0_1_ts:0.3_strat:struct_lr:0.005/resnet8_best.pth\n",
      "calculating distance for: save/student_model/S:resnet32x4_T:resnet32x4_cifar100_attention_r:1_a:0.0_b:1000.0_1_ts:0.3_strat:struct_lr:0.005/resnet8_best.pth\n",
      "[array([0.01790905, 0.04661237, 0.36544695, 0.09287789])]\n",
      "iterating dataset for model: save/student_model/S:resnet32x4_T:resnet32x4_cifar100_attention_r:1_a:0.0_b:1000.0_3_ts:0.45_strat:struct_lr:0.005/resnet8_best.pth\n",
      "calculating distance for: save/student_model/S:resnet32x4_T:resnet32x4_cifar100_attention_r:1_a:0.0_b:1000.0_3_ts:0.45_strat:struct_lr:0.005/resnet8_best.pth\n",
      "iterating dataset for model: save/student_model/S:resnet32x4_T:resnet32x4_cifar100_attention_r:1_a:0.0_b:1000.0_1_ts:0.45_strat:struct_lr:0.005/resnet8_best.pth\n",
      "calculating distance for: save/student_model/S:resnet32x4_T:resnet32x4_cifar100_attention_r:1_a:0.0_b:1000.0_1_ts:0.45_strat:struct_lr:0.005/resnet8_best.pth\n",
      "iterating dataset for model: save/student_model/S:resnet32x4_T:resnet32x4_cifar100_attention_r:1_a:0.0_b:1000.0_2_ts:0.45_strat:struct_lr:0.005/resnet8_best.pth\n",
      "calculating distance for: save/student_model/S:resnet32x4_T:resnet32x4_cifar100_attention_r:1_a:0.0_b:1000.0_2_ts:0.45_strat:struct_lr:0.005/resnet8_best.pth\n",
      "iterating dataset for model: save/student_model/S:resnet32x4_T:resnet32x4_cifar100_attention_r:1_a:0.0_b:1000.0_0_ts:0.45_strat:struct_lr:0.005/resnet8_best.pth\n",
      "calculating distance for: save/student_model/S:resnet32x4_T:resnet32x4_cifar100_attention_r:1_a:0.0_b:1000.0_0_ts:0.45_strat:struct_lr:0.005/resnet8_best.pth\n",
      "[array([0.01790905, 0.04661237, 0.36544695, 0.09287789]), array([0.04311327, 0.10371352, 0.4713463 , 0.13407147])]\n",
      "iterating dataset for model: save/student_model/S:resnet32x4_T:resnet32x4_cifar100_attention_r:1_a:0.0_b:1000.0_3_ts:0.6_strat:struct_lr:0.005/resnet8_best.pth\n",
      "calculating distance for: save/student_model/S:resnet32x4_T:resnet32x4_cifar100_attention_r:1_a:0.0_b:1000.0_3_ts:0.6_strat:struct_lr:0.005/resnet8_best.pth\n",
      "iterating dataset for model: save/student_model/S:resnet32x4_T:resnet32x4_cifar100_attention_r:1_a:0.0_b:1000.0_2_ts:0.6_strat:struct_lr:0.005/resnet8_best.pth\n",
      "calculating distance for: save/student_model/S:resnet32x4_T:resnet32x4_cifar100_attention_r:1_a:0.0_b:1000.0_2_ts:0.6_strat:struct_lr:0.005/resnet8_best.pth\n",
      "iterating dataset for model: save/student_model/S:resnet32x4_T:resnet32x4_cifar100_attention_r:1_a:0.0_b:1000.0_0_ts:0.6_strat:struct_lr:0.005/resnet8_best.pth\n",
      "calculating distance for: save/student_model/S:resnet32x4_T:resnet32x4_cifar100_attention_r:1_a:0.0_b:1000.0_0_ts:0.6_strat:struct_lr:0.005/resnet8_best.pth\n",
      "iterating dataset for model: save/student_model/S:resnet32x4_T:resnet32x4_cifar100_attention_r:1_a:0.0_b:1000.0_1_ts:0.6_strat:struct_lr:0.005/resnet8_best.pth\n",
      "calculating distance for: save/student_model/S:resnet32x4_T:resnet32x4_cifar100_attention_r:1_a:0.0_b:1000.0_1_ts:0.6_strat:struct_lr:0.005/resnet8_best.pth\n",
      "[array([0.01790905, 0.04661237, 0.36544695, 0.09287789]), array([0.04311327, 0.10371352, 0.4713463 , 0.13407147]), array([0.09263731, 0.20403342, 0.55356818, 0.18684003])]\n",
      "iterating dataset for model: save/student_model/S:resnet32x4_T:resnet32x4_cifar100_attention_r:1_a:0.0_b:1000.0_0_ts:0.75_strat:struct_lr:0.005/resnet8_best.pth\n",
      "calculating distance for: save/student_model/S:resnet32x4_T:resnet32x4_cifar100_attention_r:1_a:0.0_b:1000.0_0_ts:0.75_strat:struct_lr:0.005/resnet8_best.pth\n",
      "iterating dataset for model: save/student_model/S:resnet32x4_T:resnet32x4_cifar100_attention_r:1_a:0.0_b:1000.0_1_ts:0.75_strat:struct_lr:0.005/resnet8_best.pth\n",
      "calculating distance for: save/student_model/S:resnet32x4_T:resnet32x4_cifar100_attention_r:1_a:0.0_b:1000.0_1_ts:0.75_strat:struct_lr:0.005/resnet8_best.pth\n",
      "iterating dataset for model: save/student_model/S:resnet32x4_T:resnet32x4_cifar100_attention_r:1_a:0.0_b:1000.0_2_ts:0.75_strat:struct_lr:0.005/resnet8_best.pth\n",
      "calculating distance for: save/student_model/S:resnet32x4_T:resnet32x4_cifar100_attention_r:1_a:0.0_b:1000.0_2_ts:0.75_strat:struct_lr:0.005/resnet8_best.pth\n",
      "iterating dataset for model: save/student_model/S:resnet32x4_T:resnet32x4_cifar100_attention_r:1_a:0.0_b:1000.0_3_ts:0.75_strat:struct_lr:0.005/resnet8_best.pth\n",
      "calculating distance for: save/student_model/S:resnet32x4_T:resnet32x4_cifar100_attention_r:1_a:0.0_b:1000.0_3_ts:0.75_strat:struct_lr:0.005/resnet8_best.pth\n",
      "[array([0.01790905, 0.04661237, 0.36544695, 0.09287789]), array([0.04311327, 0.10371352, 0.4713463 , 0.13407147]), array([0.09263731, 0.20403342, 0.55356818, 0.18684003]), array([0.17966395, 0.32577137, 0.60164744, 0.25033623])]\n",
      "iterating dataset for model: save/student_model/S:resnet32x4_T:resnet32x4_cifar100_attention_r:1_a:0.0_b:1000.0_1_ts:0.9_strat:struct_lr:0.005/resnet8_best.pth\n",
      "calculating distance for: save/student_model/S:resnet32x4_T:resnet32x4_cifar100_attention_r:1_a:0.0_b:1000.0_1_ts:0.9_strat:struct_lr:0.005/resnet8_best.pth\n",
      "iterating dataset for model: save/student_model/S:resnet32x4_T:resnet32x4_cifar100_attention_r:1_a:0.0_b:1000.0_0_ts:0.9_strat:struct_lr:0.005/resnet8_best.pth\n",
      "calculating distance for: save/student_model/S:resnet32x4_T:resnet32x4_cifar100_attention_r:1_a:0.0_b:1000.0_0_ts:0.9_strat:struct_lr:0.005/resnet8_best.pth\n",
      "iterating dataset for model: save/student_model/S:resnet32x4_T:resnet32x4_cifar100_attention_r:1_a:0.0_b:1000.0_3_ts:0.9_strat:struct_lr:0.005/resnet8_best.pth\n",
      "calculating distance for: save/student_model/S:resnet32x4_T:resnet32x4_cifar100_attention_r:1_a:0.0_b:1000.0_3_ts:0.9_strat:struct_lr:0.005/resnet8_best.pth\n",
      "iterating dataset for model: save/student_model/S:resnet32x4_T:resnet32x4_cifar100_attention_r:1_a:0.0_b:1000.0_2_ts:0.9_strat:struct_lr:0.005/resnet8_best.pth\n",
      "calculating distance for: save/student_model/S:resnet32x4_T:resnet32x4_cifar100_attention_r:1_a:0.0_b:1000.0_2_ts:0.9_strat:struct_lr:0.005/resnet8_best.pth\n",
      "[array([0.01790905, 0.04661237, 0.36544695, 0.09287789]), array([0.04311327, 0.10371352, 0.4713463 , 0.13407147]), array([0.09263731, 0.20403342, 0.55356818, 0.18684003]), array([0.17966395, 0.32577137, 0.60164744, 0.25033623]), array([0.22131847, 0.39305268, 0.60129328, 0.32312638])]\n"
     ]
    }
   ],
   "source": [
    "at_45 = glob.glob('save/student_model/*resnet32x4*attention*ts:0.4*lr:0.005/*best.pth')\n",
    "at_30 = glob.glob('save/student_model/*resnet32x4*attention*ts:0.3*lr:0.005/*best.pth')\n",
    "at_60 = glob.glob('save/student_model/*resnet32x4*attention*ts:0.6*lr:0.005/*best.pth')\n",
    "at_75 = glob.glob('save/student_model/*resnet32x4*attention*ts:0.7*lr:0.005/*best.pth')\n",
    "at_90 = glob.glob('save/student_model/*resnet32x4*attention*ts:0.9*lr:0.005/*best.pth')\n",
    "\n",
    "results = []\n",
    "\n",
    "for sparsity in [at_30, at_45, at_60, at_75, at_90]:\n",
    "    \n",
    "    d = np.array([0.0, 0.0, 0.0, 0.0])\n",
    "    for model in sparsity:\n",
    "\n",
    "        #make sure everything is clean\n",
    "        [hook.clear() for hook in teacher_hooks]\n",
    "        [hook.clear() for hook in student_hooks]\n",
    "#         for hook in student_hooks:\n",
    "#             del hook\n",
    "        torch.cuda.empty_cache()\n",
    "        gc.collect()\n",
    "\n",
    "        #load student\n",
    "        ckpt = torch.load(model, map_location=device)\n",
    "        ckpt = fix_state_dict(ckpt['model'])\n",
    "        student.load_state_dict(ckpt, strict=True)\n",
    "        student = student.to(device)\n",
    "\n",
    "\n",
    "        #add student hooks\n",
    "        #student_hooks = anatome.SimilarityHook.create_hooks(student, sim_layers , 'svcca')\n",
    "\n",
    "        print(f\"iterating dataset for model: {model}\")\n",
    "        #make iterator and go through as much data as will fit in memory\n",
    "\n",
    "        dset = iter(dataloaders['val'])\n",
    "        for i in range(64):\n",
    "            data = next(dset)\n",
    "            with torch.no_grad():\n",
    "                data = data[0].cuda()\n",
    "                teacher(data)\n",
    "                student(data)\n",
    "\n",
    "        print(f'calculating distance for: {model}')\n",
    "        distances = []\n",
    "        for t_h, s_h in zip(teacher_hooks, student_hooks):\n",
    "            distances.append(t_h.distance(s_h, size=16))\n",
    "        d += np.array(distances)\n",
    "\n",
    "    results.append(d / len(sparsity))\n",
    "    print(results)\n",
    "\n",
    "sims['at'] = results"
   ]
  },
  {
   "cell_type": "code",
   "execution_count": 20,
   "id": "b6a36865-1999-48c6-9794-b99a89af5d24",
   "metadata": {
    "tags": []
   },
   "outputs": [
    {
     "name": "stdout",
     "output_type": "stream",
     "text": [
      "iterating dataset for model: save/student_model/S:resnet32x4_T:resnet32x4_cifar100_pkt_r:1_a:0.0_b:30000.0_3_ts:0.3_strat:struct_lr:0.005/resnet8x4_best.pth\n",
      "calculating distance for: save/student_model/S:resnet32x4_T:resnet32x4_cifar100_pkt_r:1_a:0.0_b:30000.0_3_ts:0.3_strat:struct_lr:0.005/resnet8x4_best.pth\n",
      "iterating dataset for model: save/student_model/S:resnet32x4_T:resnet32x4_cifar100_pkt_r:1_a:0.0_b:30000.0_2_ts:0.3_strat:struct_lr:0.005/resnet8x4_best.pth\n",
      "calculating distance for: save/student_model/S:resnet32x4_T:resnet32x4_cifar100_pkt_r:1_a:0.0_b:30000.0_2_ts:0.3_strat:struct_lr:0.005/resnet8x4_best.pth\n",
      "iterating dataset for model: save/student_model/S:resnet32x4_T:resnet32x4_cifar100_pkt_r:1_a:0.0_b:30000.0_0_ts:0.3_strat:struct_lr:0.005/resnet8x4_best.pth\n",
      "calculating distance for: save/student_model/S:resnet32x4_T:resnet32x4_cifar100_pkt_r:1_a:0.0_b:30000.0_0_ts:0.3_strat:struct_lr:0.005/resnet8x4_best.pth\n",
      "iterating dataset for model: save/student_model/S:resnet32x4_T:resnet32x4_cifar100_pkt_r:1_a:0.0_b:30000.0_1_ts:0.3_strat:struct_lr:0.005/resnet8x4_best.pth\n",
      "calculating distance for: save/student_model/S:resnet32x4_T:resnet32x4_cifar100_pkt_r:1_a:0.0_b:30000.0_1_ts:0.3_strat:struct_lr:0.005/resnet8x4_best.pth\n",
      "[array([0.03316436, 0.08714193, 0.41869634, 0.10676396])]\n",
      "iterating dataset for model: save/student_model/S:resnet32x4_T:resnet32x4_cifar100_pkt_r:1_a:0.0_b:30000.0_3_ts:0.45_strat:struct_lr:0.005/resnet8x4_best.pth\n",
      "calculating distance for: save/student_model/S:resnet32x4_T:resnet32x4_cifar100_pkt_r:1_a:0.0_b:30000.0_3_ts:0.45_strat:struct_lr:0.005/resnet8x4_best.pth\n",
      "iterating dataset for model: save/student_model/S:resnet32x4_T:resnet32x4_cifar100_pkt_r:1_a:0.0_b:30000.0_1_ts:0.45_strat:struct_lr:0.005/resnet8x4_best.pth\n",
      "calculating distance for: save/student_model/S:resnet32x4_T:resnet32x4_cifar100_pkt_r:1_a:0.0_b:30000.0_1_ts:0.45_strat:struct_lr:0.005/resnet8x4_best.pth\n",
      "iterating dataset for model: save/student_model/S:resnet32x4_T:resnet32x4_cifar100_pkt_r:1_a:0.0_b:30000.0_2_ts:0.45_strat:struct_lr:0.005/resnet8x4_best.pth\n",
      "calculating distance for: save/student_model/S:resnet32x4_T:resnet32x4_cifar100_pkt_r:1_a:0.0_b:30000.0_2_ts:0.45_strat:struct_lr:0.005/resnet8x4_best.pth\n",
      "iterating dataset for model: save/student_model/S:resnet32x4_T:resnet32x4_cifar100_pkt_r:1_a:0.0_b:30000.0_0_ts:0.45_strat:struct_lr:0.005/resnet8x4_best.pth\n",
      "calculating distance for: save/student_model/S:resnet32x4_T:resnet32x4_cifar100_pkt_r:1_a:0.0_b:30000.0_0_ts:0.45_strat:struct_lr:0.005/resnet8x4_best.pth\n",
      "[array([0.03316436, 0.08714193, 0.41869634, 0.10676396]), array([0.08017559, 0.18166487, 0.51047111, 0.15465331])]\n",
      "iterating dataset for model: save/student_model/S:resnet32x4_T:resnet32x4_cifar100_pkt_r:1_a:0.0_b:30000.0_0_ts:0.6_strat:struct_lr:0.005/resnet8x4_best.pth\n",
      "calculating distance for: save/student_model/S:resnet32x4_T:resnet32x4_cifar100_pkt_r:1_a:0.0_b:30000.0_0_ts:0.6_strat:struct_lr:0.005/resnet8x4_best.pth\n",
      "iterating dataset for model: save/student_model/S:resnet32x4_T:resnet32x4_cifar100_pkt_r:1_a:0.0_b:30000.0_2_ts:0.6_strat:struct_lr:0.005/resnet8x4_best.pth\n",
      "calculating distance for: save/student_model/S:resnet32x4_T:resnet32x4_cifar100_pkt_r:1_a:0.0_b:30000.0_2_ts:0.6_strat:struct_lr:0.005/resnet8x4_best.pth\n",
      "iterating dataset for model: save/student_model/S:resnet32x4_T:resnet32x4_cifar100_pkt_r:1_a:0.0_b:30000.0_3_ts:0.6_strat:struct_lr:0.005/resnet8x4_best.pth\n",
      "calculating distance for: save/student_model/S:resnet32x4_T:resnet32x4_cifar100_pkt_r:1_a:0.0_b:30000.0_3_ts:0.6_strat:struct_lr:0.005/resnet8x4_best.pth\n",
      "iterating dataset for model: save/student_model/S:resnet32x4_T:resnet32x4_cifar100_pkt_r:1_a:0.0_b:30000.0_1_ts:0.6_strat:struct_lr:0.005/resnet8x4_best.pth\n",
      "calculating distance for: save/student_model/S:resnet32x4_T:resnet32x4_cifar100_pkt_r:1_a:0.0_b:30000.0_1_ts:0.6_strat:struct_lr:0.005/resnet8x4_best.pth\n",
      "[array([0.03316436, 0.08714193, 0.41869634, 0.10676396]), array([0.08017559, 0.18166487, 0.51047111, 0.15465331]), array([0.13295741, 0.27276982, 0.56646092, 0.19110268])]\n",
      "iterating dataset for model: save/student_model/S:resnet32x4_T:resnet32x4_cifar100_pkt_r:1_a:0.0_b:30000.0_2_ts:0.75_strat:struct_lr:0.005/resnet8x4_best.pth\n",
      "calculating distance for: save/student_model/S:resnet32x4_T:resnet32x4_cifar100_pkt_r:1_a:0.0_b:30000.0_2_ts:0.75_strat:struct_lr:0.005/resnet8x4_best.pth\n",
      "iterating dataset for model: save/student_model/S:resnet32x4_T:resnet32x4_cifar100_pkt_r:1_a:0.0_b:30000.0_0_ts:0.75_strat:struct_lr:0.005/resnet8x4_best.pth\n",
      "calculating distance for: save/student_model/S:resnet32x4_T:resnet32x4_cifar100_pkt_r:1_a:0.0_b:30000.0_0_ts:0.75_strat:struct_lr:0.005/resnet8x4_best.pth\n",
      "iterating dataset for model: save/student_model/S:resnet32x4_T:resnet32x4_cifar100_pkt_r:1_a:0.0_b:30000.0_3_ts:0.75_strat:struct_lr:0.005/resnet8x4_best.pth\n",
      "calculating distance for: save/student_model/S:resnet32x4_T:resnet32x4_cifar100_pkt_r:1_a:0.0_b:30000.0_3_ts:0.75_strat:struct_lr:0.005/resnet8x4_best.pth\n",
      "iterating dataset for model: save/student_model/S:resnet32x4_T:resnet32x4_cifar100_pkt_r:1_a:0.0_b:30000.0_1_ts:0.75_strat:struct_lr:0.005/resnet8x4_best.pth\n",
      "calculating distance for: save/student_model/S:resnet32x4_T:resnet32x4_cifar100_pkt_r:1_a:0.0_b:30000.0_1_ts:0.75_strat:struct_lr:0.005/resnet8x4_best.pth\n",
      "[array([0.03316436, 0.08714193, 0.41869634, 0.10676396]), array([0.08017559, 0.18166487, 0.51047111, 0.15465331]), array([0.13295741, 0.27276982, 0.56646092, 0.19110268]), array([0.2103369 , 0.36743296, 0.61066787, 0.24307072])]\n",
      "iterating dataset for model: save/student_model/S:resnet32x4_T:resnet32x4_cifar100_pkt_r:1_a:0.0_b:30000.0_2_ts:0.9_strat:struct_lr:0.005/resnet8x4_best.pth\n",
      "calculating distance for: save/student_model/S:resnet32x4_T:resnet32x4_cifar100_pkt_r:1_a:0.0_b:30000.0_2_ts:0.9_strat:struct_lr:0.005/resnet8x4_best.pth\n",
      "iterating dataset for model: save/student_model/S:resnet32x4_T:resnet32x4_cifar100_pkt_r:1_a:0.0_b:30000.0_1_ts:0.9_strat:struct_lr:0.005/resnet8x4_best.pth\n",
      "calculating distance for: save/student_model/S:resnet32x4_T:resnet32x4_cifar100_pkt_r:1_a:0.0_b:30000.0_1_ts:0.9_strat:struct_lr:0.005/resnet8x4_best.pth\n",
      "iterating dataset for model: save/student_model/S:resnet32x4_T:resnet32x4_cifar100_pkt_r:1_a:0.0_b:30000.0_0_ts:0.9_strat:struct_lr:0.005/resnet8x4_best.pth\n",
      "calculating distance for: save/student_model/S:resnet32x4_T:resnet32x4_cifar100_pkt_r:1_a:0.0_b:30000.0_0_ts:0.9_strat:struct_lr:0.005/resnet8x4_best.pth\n",
      "iterating dataset for model: save/student_model/S:resnet32x4_T:resnet32x4_cifar100_pkt_r:1_a:0.0_b:30000.0_3_ts:0.9_strat:struct_lr:0.005/resnet8x4_best.pth\n",
      "calculating distance for: save/student_model/S:resnet32x4_T:resnet32x4_cifar100_pkt_r:1_a:0.0_b:30000.0_3_ts:0.9_strat:struct_lr:0.005/resnet8x4_best.pth\n",
      "[array([0.03316436, 0.08714193, 0.41869634, 0.10676396]), array([0.08017559, 0.18166487, 0.51047111, 0.15465331]), array([0.13295741, 0.27276982, 0.56646092, 0.19110268]), array([0.2103369 , 0.36743296, 0.61066787, 0.24307072]), array([0.27500987, 0.43450452, 0.61007744, 0.36328089])]\n"
     ]
    }
   ],
   "source": [
    "pkt_45 = glob.glob('save/student_model/*resnet32x4*pkt*ts:0.4*lr:0.005/*best.pth')\n",
    "pkt_30 = glob.glob('save/student_model/*resnet32x4*pkt*ts:0.3*lr:0.005/*best.pth')\n",
    "pkt_60 = glob.glob('save/student_model/*resnet32x4*pkt*ts:0.6*lr:0.005/*best.pth')\n",
    "pkt_75 = glob.glob('save/student_model/*resnet32x4*pkt*ts:0.7*lr:0.005/*best.pth')\n",
    "pkt_90 = glob.glob('save/student_model/*resnet32x4*pkt*ts:0.9*lr:0.005/*best.pth')\n",
    "\n",
    "results = []\n",
    "\n",
    "for sparsity in [pkt_30, pkt_45, pkt_60, pkt_75, pkt_90]:\n",
    "    \n",
    "    d = np.array([0.0, 0.0, 0.0, 0.0])\n",
    "    for model in sparsity:\n",
    "\n",
    "        #make sure everything is clean\n",
    "        [hook.clear() for hook in teacher_hooks]\n",
    "        [hook.clear() for hook in student_hooks]\n",
    "#         for hook in student_hooks:\n",
    "#             del hook\n",
    "        torch.cuda.empty_cache()\n",
    "        gc.collect()\n",
    "\n",
    "        #load student\n",
    "        ckpt = torch.load(model, map_location=device)\n",
    "        ckpt = fix_state_dict(ckpt['model'])\n",
    "        student.load_state_dict(ckpt, strict=True)\n",
    "        student = student.to(device)\n",
    "\n",
    "\n",
    "        #add student hooks\n",
    "        #student_hooks = anatome.SimilarityHook.create_hooks(student, sim_layers , 'svcca')\n",
    "\n",
    "        print(f\"iterating dataset for model: {model}\")\n",
    "        #make iterator and go through as much data as will fit in memory\n",
    "\n",
    "        dset = iter(dataloaders['val'])\n",
    "        for i in range(64):\n",
    "            data = next(dset)\n",
    "            with torch.no_grad():\n",
    "                data = data[0].cuda()\n",
    "                teacher(data)\n",
    "                student(data)\n",
    "\n",
    "        print(f'calculating distance for: {model}')\n",
    "        distances = []\n",
    "        for t_h, s_h in zip(teacher_hooks, student_hooks):\n",
    "            distances.append(t_h.distance(s_h, size=16))\n",
    "        d += np.array(distances)\n",
    "\n",
    "    results.append(d / len(sparsity))\n",
    "    print(results)\n",
    "\n",
    "sims['pkt'] = results"
   ]
  },
  {
   "cell_type": "code",
   "execution_count": 21,
   "id": "11559656-8408-4b80-a613-b8ceb9ff3731",
   "metadata": {},
   "outputs": [
    {
     "data": {
      "text/plain": [
       "{'struct_mag': [array([0.11076383, 0.23093504, 0.55483049, 0.20734002]),\n",
       "  array([0.12564581, 0.26617607, 0.57405552, 0.23733528]),\n",
       "  array([0.16858421, 0.31926581, 0.60245958, 0.273138  ]),\n",
       "  array([0.22644553, 0.39126544, 0.63017884, 0.28000446]),\n",
       "  array([0.23203238, 0.42617299, 0.62021048, 0.31071572])],\n",
       " 'sim': [array([0.07492287, 0.16262624, 0.44531006, 0.1222202 ]),\n",
       "  array([0.11477873, 0.2398724 , 0.53158841, 0.16901009]),\n",
       "  array([0.16076702, 0.30538747, 0.58111922, 0.21462908]),\n",
       "  array([0.22093787, 0.38569866, 0.62026973, 0.22960122]),\n",
       "  array([0.22687929, 0.4183962 , 0.61449039, 0.34005357])],\n",
       " 'kd': [array([0.0793261 , 0.17867119, 0.48005776, 0.1256899 ]),\n",
       "  array([0.10877489, 0.23096418, 0.53844362, 0.15449415]),\n",
       "  array([0.15264054, 0.30507977, 0.58796684, 0.19709052]),\n",
       "  array([0.22057854, 0.39440924, 0.62250158, 0.22471598]),\n",
       "  array([0.24369474, 0.43213832, 0.59883173, 0.42920731])],\n",
       " 'at': [array([0.01790905, 0.04661237, 0.36544695, 0.09287789]),\n",
       "  array([0.04311327, 0.10371352, 0.4713463 , 0.13407147]),\n",
       "  array([0.09263731, 0.20403342, 0.55356818, 0.18684003]),\n",
       "  array([0.17966395, 0.32577137, 0.60164744, 0.25033623]),\n",
       "  array([0.22131847, 0.39305268, 0.60129328, 0.32312638])],\n",
       " 'pkt': [array([0.03316436, 0.08714193, 0.41869634, 0.10676396]),\n",
       "  array([0.08017559, 0.18166487, 0.51047111, 0.15465331]),\n",
       "  array([0.13295741, 0.27276982, 0.56646092, 0.19110268]),\n",
       "  array([0.2103369 , 0.36743296, 0.61066787, 0.24307072]),\n",
       "  array([0.27500987, 0.43450452, 0.61007744, 0.36328089])]}"
      ]
     },
     "execution_count": 21,
     "metadata": {},
     "output_type": "execute_result"
    }
   ],
   "source": [
    "sims"
   ]
  },
  {
   "cell_type": "raw",
   "id": "f5c3af93-3e72-4f80-a4db-de4cfc333007",
   "metadata": {},
   "source": [
    "## sim results\n",
    "{'struct_mag': [array([0.11076383, 0.23093504, 0.55483049, 0.20734002]),\n",
    "  array([0.12564581, 0.26617607, 0.57405552, 0.23733528]),\n",
    "  array([0.16858421, 0.31926581, 0.60245958, 0.273138  ]),\n",
    "  array([0.22644553, 0.39126544, 0.63017884, 0.28000446]),\n",
    "  array([0.23203238, 0.42617299, 0.62021048, 0.31071572])],\n",
    " 'sim': [array([0.07492287, 0.16262624, 0.44531006, 0.1222202 ]),\n",
    "  array([0.11477873, 0.2398724 , 0.53158841, 0.16901009]),\n",
    "  array([0.16076702, 0.30538747, 0.58111922, 0.21462908]),\n",
    "  array([0.22093787, 0.38569866, 0.62026973, 0.22960122]),\n",
    "  array([0.22687929, 0.4183962 , 0.61449039, 0.34005357])],\n",
    " 'kd': [array([0.0793261 , 0.17867119, 0.48005776, 0.1256899 ]),\n",
    "  array([0.10877489, 0.23096418, 0.53844362, 0.15449415]),\n",
    "  array([0.15264054, 0.30507977, 0.58796684, 0.19709052]),\n",
    "  array([0.22057854, 0.39440924, 0.62250158, 0.22471598]),\n",
    "  array([0.24369474, 0.43213832, 0.59883173, 0.42920731])],\n",
    " 'at': [array([0.01790905, 0.04661237, 0.36544695, 0.09287789]),\n",
    "  array([0.04311327, 0.10371352, 0.4713463 , 0.13407147]),\n",
    "  array([0.09263731, 0.20403342, 0.55356818, 0.18684003]),\n",
    "  array([0.17966395, 0.32577137, 0.60164744, 0.25033623]),\n",
    "  array([0.22131847, 0.39305268, 0.60129328, 0.32312638])],\n",
    " 'pkt': [array([0.03316436, 0.08714193, 0.41869634, 0.10676396]),\n",
    "  array([0.08017559, 0.18166487, 0.51047111, 0.15465331]),\n",
    "  array([0.13295741, 0.27276982, 0.56646092, 0.19110268]),\n",
    "  array([0.2103369 , 0.36743296, 0.61066787, 0.24307072]),\n",
    "  array([0.27500987, 0.43450452, 0.61007744, 0.36328089])]}\n"
   ]
  },
  {
   "cell_type": "markdown",
   "id": "da36a3e2-2259-4e65-b517-a10b9a7cb034",
   "metadata": {},
   "source": [
    "results with adaptive_avg_pool2d\n",
    "[array([0.11076383, 0.23093504, 0.5568569 , 0.20734002])]"
   ]
  }
 ],
 "metadata": {
  "kernelspec": {
   "display_name": "Python 3",
   "language": "python",
   "name": "python3"
  },
  "language_info": {
   "codemirror_mode": {
    "name": "ipython",
    "version": 3
   },
   "file_extension": ".py",
   "mimetype": "text/x-python",
   "name": "python",
   "nbconvert_exporter": "python",
   "pygments_lexer": "ipython3",
   "version": "3.7.10"
  }
 },
 "nbformat": 4,
 "nbformat_minor": 5
}
