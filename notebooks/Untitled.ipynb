{
 "cells": [
  {
   "cell_type": "code",
   "execution_count": 1,
   "metadata": {},
   "outputs": [
    {
     "name": "stdout",
     "output_type": "stream",
     "text": [
      "/home/cody/inner-knowledge-pruning\n"
     ]
    }
   ],
   "source": [
    "cd .. "
   ]
  },
  {
   "cell_type": "code",
   "execution_count": 2,
   "metadata": {},
   "outputs": [],
   "source": [
    "import pickle "
   ]
  },
  {
   "cell_type": "code",
   "execution_count": 3,
   "metadata": {},
   "outputs": [],
   "source": [
    "with open('./pruning_stats/image_woof_struct.pickle', 'rb') as f:\n",
    "    dfs = pickle.load(f)"
   ]
  },
  {
   "cell_type": "code",
   "execution_count": 14,
   "metadata": {},
   "outputs": [
    {
     "data": {
      "text/plain": [
       "{90: array([  10,   31,   46,  128,  155,  162,  210,  343,  344,  370,  371,\n",
       "         391,  427,  438,  489,  535,  555,  668,  699,  743,  749,  762,\n",
       "         781,  784,  800,  801,  808,  812,  834,  857,  862,  875,  892,\n",
       "         911,  933,  945,  947,  954,  970,  971,  982,  986, 1031, 1052,\n",
       "        1054, 1055, 1078, 1097, 1106, 1109, 1111, 1112, 1144, 1177, 1188,\n",
       "        1269, 1284, 1287, 1293, 1297, 1300, 1306, 1308, 1321, 1327, 1339,\n",
       "        1372, 1380, 1382, 1394, 1398, 1402, 1404, 1410, 1418, 1439, 1441,\n",
       "        1443, 1466, 1467, 1501, 1513, 1515, 1545, 1551, 1568, 1581, 1629,\n",
       "        1673, 1692, 1694, 1718, 1735, 1740, 1748, 1769, 1778, 1783, 1802,\n",
       "        1852, 1853, 1864, 1869, 1871, 1877, 1886, 1892, 1945, 1994, 2004,\n",
       "        2011, 2037, 2041, 2059, 2078, 2089, 2112, 2125, 2186, 2221, 2236,\n",
       "        2242, 2275, 2287, 2319, 2325, 2326, 2331, 2337, 2340, 2349, 2359,\n",
       "        2372, 2393, 2410, 2429, 2433, 2449, 2469, 2486, 2492, 2502, 2504,\n",
       "        2523, 2557, 2558, 2562, 2707, 2711, 2770, 2791, 2820, 2830, 2837,\n",
       "        2867, 2908, 2913, 2922, 2935, 2939, 2960, 2984, 2987, 3002, 3032,\n",
       "        3039, 3046, 3055, 3062, 3072, 3082, 3114, 3118, 3151, 3377, 3471,\n",
       "        3518, 3521, 3529, 3569, 3574, 3668, 3676, 3687, 3702, 3755, 3767,\n",
       "        3773, 3774, 3779, 3792, 3794, 3808, 3820, 3827, 3830, 3835, 3836,\n",
       "        3881, 3899, 3918])}"
      ]
     },
     "execution_count": 14,
     "metadata": {},
     "output_type": "execute_result"
    }
   ],
   "source": [
    "dfs.pie_idx['struct_mag']"
   ]
  },
  {
   "cell_type": "code",
   "execution_count": null,
   "metadata": {},
   "outputs": [],
   "source": []
  }
 ],
 "metadata": {
  "kernelspec": {
   "display_name": "Python 3",
   "language": "python",
   "name": "python3"
  },
  "language_info": {
   "codemirror_mode": {
    "name": "ipython",
    "version": 3
   },
   "file_extension": ".py",
   "mimetype": "text/x-python",
   "name": "python",
   "nbconvert_exporter": "python",
   "pygments_lexer": "ipython3",
   "version": "3.7.10"
  }
 },
 "nbformat": 4,
 "nbformat_minor": 4
}
