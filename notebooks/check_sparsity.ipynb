{
 "cells": [
  {
   "cell_type": "code",
   "execution_count": 1,
   "metadata": {},
   "outputs": [],
   "source": [
    "import torch"
   ]
  },
  {
   "cell_type": "code",
   "execution_count": 27,
   "metadata": {},
   "outputs": [],
   "source": [
    "checkpoint = torch.load('../models/cifar10/vgg16/ik_struct_mag/lr_0.01/alpha_0.01/sparsity_0.6/20201111-194100.pt')"
   ]
  },
  {
   "cell_type": "code",
   "execution_count": 33,
   "metadata": {},
   "outputs": [
    {
     "data": {
      "text/plain": [
       "0.45703125"
      ]
     },
     "execution_count": 33,
     "metadata": {},
     "output_type": "execute_result"
    }
   ],
   "source": [
    "mask = checkpoint['model.features.20.weight_mask']\n",
    "layer_spar = float(torch.sum(mask == 0))\n",
    "layer_spar / float(mask.nelement())"
   ]
  },
  {
   "cell_type": "code",
   "execution_count": 35,
   "metadata": {},
   "outputs": [],
   "source": [
    "import numpy as np"
   ]
  },
  {
   "cell_type": "code",
   "execution_count": 37,
   "metadata": {},
   "outputs": [
    {
     "data": {
      "text/plain": [
       "39.0"
      ]
     },
     "execution_count": 37,
     "metadata": {},
     "output_type": "execute_result"
    }
   ],
   "source": [
    "np.floor(60*.66)"
   ]
  },
  {
   "cell_type": "code",
   "execution_count": 38,
   "metadata": {},
   "outputs": [
    {
     "name": "stdout",
     "output_type": "stream",
     "text": [
      "/home/cody/inner-knowledge-pruning\n"
     ]
    }
   ],
   "source": [
    "cd .."
   ]
  },
  {
   "cell_type": "code",
   "execution_count": 39,
   "metadata": {},
   "outputs": [],
   "source": [
    "from src.prune_scheduler import AgpPruningRate"
   ]
  },
  {
   "cell_type": "code",
   "execution_count": 40,
   "metadata": {},
   "outputs": [],
   "source": [
    "prune_sch = AgpPruningRate(.1, .9, 1, np.floor(60*.66), 5)"
   ]
  },
  {
   "cell_type": "code",
   "execution_count": 42,
   "metadata": {},
   "outputs": [
    {
     "name": "stdout",
     "output_type": "stream",
     "text": [
      "epoch 1\n",
      "target 0.09999999999999998\n",
      "epoch 6\n",
      "target 0.396209912536443\n",
      "epoch 11\n",
      "target 0.6084548104956269\n",
      "epoch 16\n",
      "target 0.750728862973761\n",
      "epoch 21\n",
      "target 0.8370262390670554\n",
      "epoch 26\n",
      "target 0.8813411078717202\n",
      "epoch 31\n",
      "target 0.897667638483965\n",
      "epoch 36\n",
      "target 0.9\n"
     ]
    }
   ],
   "source": [
    "for epoch in range(1, 60+1):\n",
    "    if epoch % 5 == 1 and epoch <= np.floor(60*.66):\n",
    "        print(f\"epoch {epoch}\")\n",
    "        target = prune_sch.step(epoch)\n",
    "        print(f\"target {target}\")"
   ]
  },
  {
   "cell_type": "code",
   "execution_count": null,
   "metadata": {},
   "outputs": [],
   "source": []
  }
 ],
 "metadata": {
  "kernelspec": {
   "display_name": "Python 3",
   "language": "python",
   "name": "python3"
  },
  "language_info": {
   "codemirror_mode": {
    "name": "ipython",
    "version": 3
   },
   "file_extension": ".py",
   "mimetype": "text/x-python",
   "name": "python",
   "nbconvert_exporter": "python",
   "pygments_lexer": "ipython3",
   "version": "3.7.10"
  }
 },
 "nbformat": 4,
 "nbformat_minor": 4
}
